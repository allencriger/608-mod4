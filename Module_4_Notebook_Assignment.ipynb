{
 "cells": [
  {
   "cell_type": "markdown",
   "id": "a462eec2",
   "metadata": {},
   "source": [
    "Allen Criger.  Module 3"
   ]
  },
  {
   "cell_type": "markdown",
   "id": "b3a9ad73",
   "metadata": {},
   "source": [
    "1.  Follow the instructions in Chapter 5 to complete the following tasks.  Done."
   ]
  },
  {
   "cell_type": "markdown",
   "id": "9ca9d7bd",
   "metadata": {},
   "source": [
    "2.  Execute the examples using the Ch 5 samples or type and execute them yourself. The more you edit and expand the examples, the more you'll learn.   Done."
   ]
  },
  {
   "cell_type": "markdown",
   "id": "1d076787",
   "metadata": {},
   "source": [
    "3.  We will leans lists by working though Section 5.2, beginning with creating a list c of integers. "
   ]
  },
  {
   "cell_type": "code",
   "execution_count": 1,
   "id": "854f2160",
   "metadata": {},
   "outputs": [],
   "source": [
    "c = [-60, 8, 0, 92, 534]"
   ]
  },
  {
   "cell_type": "markdown",
   "id": "29bf22ea",
   "metadata": {},
   "source": [
    "4.  Lists are zero-based - the index of an item is the offset or difference from the first item.  Get the value of the first item (offset/index = 0) with c[0]."
   ]
  },
  {
   "cell_type": "code",
   "execution_count": 2,
   "id": "8dce5f1b",
   "metadata": {},
   "outputs": [
    {
     "data": {
      "text/plain": [
       "-60"
      ]
     },
     "execution_count": 2,
     "metadata": {},
     "output_type": "execute_result"
    }
   ],
   "source": [
    "c[0]"
   ]
  },
  {
   "cell_type": "markdown",
   "id": "65e1b880",
   "metadata": {},
   "source": [
    "5.  Get the value of the fifth item with c[4].  You'll get used to this - it's a common practice in many programming languages to count using offsets meaning we use zero for the first index. "
   ]
  },
  {
   "cell_type": "code",
   "execution_count": 3,
   "id": "533b8483",
   "metadata": {},
   "outputs": [
    {
     "data": {
      "text/plain": [
       "534"
      ]
     },
     "execution_count": 3,
     "metadata": {},
     "output_type": "execute_result"
    }
   ],
   "source": [
    "c[4]"
   ]
  },
  {
   "cell_type": "markdown",
   "id": "139378a1",
   "metadata": {},
   "source": [
    "6.  Pass in the list to the built in function len() to count the number of items in the list."
   ]
  },
  {
   "cell_type": "code",
   "execution_count": 4,
   "id": "a382c8e3",
   "metadata": {},
   "outputs": [
    {
     "data": {
      "text/plain": [
       "5"
      ]
     },
     "execution_count": 4,
     "metadata": {},
     "output_type": "execute_result"
    }
   ],
   "source": [
    "len(c)"
   ]
  },
  {
   "cell_type": "markdown",
   "id": "31124902",
   "metadata": {},
   "source": [
    "7.  Get the last item in the list using a negative index, c[-1]."
   ]
  },
  {
   "cell_type": "code",
   "execution_count": 5,
   "id": "44dda9b4",
   "metadata": {},
   "outputs": [
    {
     "data": {
      "text/plain": [
       "534"
      ]
     },
     "execution_count": 5,
     "metadata": {},
     "output_type": "execute_result"
    }
   ],
   "source": [
    "c[-1]"
   ]
  },
  {
   "cell_type": "markdown",
   "id": "c2f0d2ae",
   "metadata": {},
   "source": [
    "8.  Try to access an index longer than the list, e.g. c[100] - what happens?  "
   ]
  },
  {
   "cell_type": "markdown",
   "id": "aca9f1b7-6d8a-4898-920c-c806b98d73ac",
   "metadata": {},
   "source": [
    "c[100]  (marked this down so the error wouldn't stop the program from functioning when ran as an entire notebook.)"
   ]
  },
  {
   "cell_type": "markdown",
   "id": "9a93428f",
   "metadata": {},
   "source": [
    "    You get an index error because there is no data in the index at [100]."
   ]
  },
  {
   "cell_type": "markdown",
   "id": "08063d28",
   "metadata": {},
   "source": [
    "9.  Add the first three items in the list with c[0] +c[1] + c[2]."
   ]
  },
  {
   "cell_type": "code",
   "execution_count": 6,
   "id": "d78bb4b5",
   "metadata": {},
   "outputs": [
    {
     "data": {
      "text/plain": [
       "-52"
      ]
     },
     "execution_count": 6,
     "metadata": {},
     "output_type": "execute_result"
    }
   ],
   "source": [
    "c[0] + c[1] + c[2]"
   ]
  },
  {
   "cell_type": "markdown",
   "id": "5b5863c5",
   "metadata": {},
   "source": [
    "10.  Append items with +="
   ]
  },
  {
   "cell_type": "code",
   "execution_count": 7,
   "id": "14b2c042",
   "metadata": {},
   "outputs": [],
   "source": [
    "append_list =[]"
   ]
  },
  {
   "cell_type": "code",
   "execution_count": 8,
   "id": "b3432b52",
   "metadata": {},
   "outputs": [],
   "source": [
    "for number in range(1,11):\n",
    "    append_list += [number]"
   ]
  },
  {
   "cell_type": "code",
   "execution_count": 9,
   "id": "46d47de1",
   "metadata": {},
   "outputs": [
    {
     "data": {
      "text/plain": [
       "[1, 2, 3, 4, 5, 6, 7, 8, 9, 10]"
      ]
     },
     "execution_count": 9,
     "metadata": {},
     "output_type": "execute_result"
    }
   ],
   "source": [
    "append_list"
   ]
  },
  {
   "cell_type": "markdown",
   "id": "72b8afdb",
   "metadata": {},
   "source": [
    "11,  Combine (concatenate) two lists with +"
   ]
  },
  {
   "cell_type": "code",
   "execution_count": 10,
   "id": "09f623f8",
   "metadata": {},
   "outputs": [],
   "source": [
    "list1 = [15, 20, 25, 30]"
   ]
  },
  {
   "cell_type": "code",
   "execution_count": 11,
   "id": "fbb6d5c0",
   "metadata": {},
   "outputs": [],
   "source": [
    "list2 = [35, 40]"
   ]
  },
  {
   "cell_type": "code",
   "execution_count": 12,
   "id": "12c47d89",
   "metadata": {},
   "outputs": [],
   "source": [
    "concatenated_list = list1 + list2"
   ]
  },
  {
   "cell_type": "code",
   "execution_count": 13,
   "id": "944096e9",
   "metadata": {},
   "outputs": [
    {
     "data": {
      "text/plain": [
       "[15, 20, 25, 30, 35, 40]"
      ]
     },
     "execution_count": 13,
     "metadata": {},
     "output_type": "execute_result"
    }
   ],
   "source": [
    "concatenated_list"
   ]
  },
  {
   "cell_type": "markdown",
   "id": "4e85bfe9",
   "metadata": {},
   "source": [
    "12. Use the powerful for i in range() to process every item in a list (in this case, printing a formatted string)."
   ]
  },
  {
   "cell_type": "code",
   "execution_count": 14,
   "id": "70811f79",
   "metadata": {},
   "outputs": [],
   "source": [
    "def square_list(values):\n",
    "    for i in range(len(values)):\n",
    "        values[i] **=2"
   ]
  },
  {
   "cell_type": "code",
   "execution_count": 15,
   "id": "427a83ca",
   "metadata": {},
   "outputs": [],
   "source": [
    "numbers = [1, 2, 3, 4, 5, 6, 7, 8, 9, 10]"
   ]
  },
  {
   "cell_type": "code",
   "execution_count": 16,
   "id": "ba8f1c55",
   "metadata": {},
   "outputs": [],
   "source": [
    "square_list(numbers)"
   ]
  },
  {
   "cell_type": "code",
   "execution_count": 17,
   "id": "64d05f86",
   "metadata": {},
   "outputs": [
    {
     "data": {
      "text/plain": [
       "[1, 4, 9, 16, 25, 36, 49, 64, 81, 100]"
      ]
     },
     "execution_count": 17,
     "metadata": {},
     "output_type": "execute_result"
    }
   ],
   "source": [
    "numbers"
   ]
  },
  {
   "cell_type": "markdown",
   "id": "01612a0b",
   "metadata": {},
   "source": [
    "13.  Create three lists, a, b, and c. Use the comparison operators to compare the lists. "
   ]
  },
  {
   "cell_type": "code",
   "execution_count": 18,
   "id": "88742498",
   "metadata": {},
   "outputs": [],
   "source": [
    "a = [1, 2, 3, 4, 5]"
   ]
  },
  {
   "cell_type": "code",
   "execution_count": 19,
   "id": "0d22c1dc",
   "metadata": {},
   "outputs": [],
   "source": [
    "b = [1, 2, 3, 5, 5]"
   ]
  },
  {
   "cell_type": "code",
   "execution_count": 20,
   "id": "212c33e9",
   "metadata": {},
   "outputs": [],
   "source": [
    "c = [1, 2, 3, 4, 5, 6, 7]"
   ]
  },
  {
   "cell_type": "code",
   "execution_count": 21,
   "id": "fa4611ab",
   "metadata": {},
   "outputs": [
    {
     "data": {
      "text/plain": [
       "False"
      ]
     },
     "execution_count": 21,
     "metadata": {},
     "output_type": "execute_result"
    }
   ],
   "source": [
    "a == b"
   ]
  },
  {
   "cell_type": "code",
   "execution_count": 22,
   "id": "e7f6aadb",
   "metadata": {},
   "outputs": [
    {
     "data": {
      "text/plain": [
       "False"
      ]
     },
     "execution_count": 22,
     "metadata": {},
     "output_type": "execute_result"
    }
   ],
   "source": [
    "a == c"
   ]
  },
  {
   "cell_type": "code",
   "execution_count": 23,
   "id": "5d34e1a5",
   "metadata": {},
   "outputs": [
    {
     "data": {
      "text/plain": [
       "True"
      ]
     },
     "execution_count": 23,
     "metadata": {},
     "output_type": "execute_result"
    }
   ],
   "source": [
    "a < c"
   ]
  },
  {
   "cell_type": "code",
   "execution_count": 24,
   "id": "46b58177",
   "metadata": {},
   "outputs": [
    {
     "data": {
      "text/plain": [
       "False"
      ]
     },
     "execution_count": 24,
     "metadata": {},
     "output_type": "execute_result"
    }
   ],
   "source": [
    "c >= b"
   ]
  },
  {
   "cell_type": "markdown",
   "id": "5135fdaa",
   "metadata": {},
   "source": [
    "14.  Do the Self Check. Create a function cube_list to cube every item in a list. Create a list of numbers, and pass this list into your cube_list function for processing."
   ]
  },
  {
   "cell_type": "code",
   "execution_count": 25,
   "id": "c91a849a",
   "metadata": {},
   "outputs": [],
   "source": [
    "def cube_list(values):\n",
    "    for i in range(len(values)):\n",
    "        values[i] **= 3"
   ]
  },
  {
   "cell_type": "code",
   "execution_count": 26,
   "id": "a3064908",
   "metadata": {},
   "outputs": [],
   "source": [
    "numbers = [0, 10, 20, 30, 40, 50, 60, 70, 80, 90, 100]"
   ]
  },
  {
   "cell_type": "code",
   "execution_count": 27,
   "id": "a641c76e",
   "metadata": {},
   "outputs": [],
   "source": [
    "cube_list(numbers)"
   ]
  },
  {
   "cell_type": "code",
   "execution_count": 28,
   "id": "6a80d83d",
   "metadata": {},
   "outputs": [
    {
     "data": {
      "text/plain": [
       "[0, 1000, 8000, 27000, 64000, 125000, 216000, 343000, 512000, 729000, 1000000]"
      ]
     },
     "execution_count": 28,
     "metadata": {},
     "output_type": "execute_result"
    }
   ],
   "source": [
    "numbers"
   ]
  },
  {
   "cell_type": "markdown",
   "id": "2840a001",
   "metadata": {},
   "source": [
    "Self Check: 1.  Immutable  2.  False, you get a TypeError 3.  See code above  4. See code below."
   ]
  },
  {
   "cell_type": "code",
   "execution_count": 29,
   "id": "996c31a2",
   "metadata": {},
   "outputs": [],
   "source": [
    "characters = []"
   ]
  },
  {
   "cell_type": "code",
   "execution_count": 30,
   "id": "f5cde8b3",
   "metadata": {},
   "outputs": [],
   "source": [
    "characters += 'Python'"
   ]
  },
  {
   "cell_type": "code",
   "execution_count": 31,
   "id": "17924aa1",
   "metadata": {},
   "outputs": [
    {
     "data": {
      "text/plain": [
       "['P', 'y', 't', 'h', 'o', 'n']"
      ]
     },
     "execution_count": 31,
     "metadata": {},
     "output_type": "execute_result"
    }
   ],
   "source": [
    "characters"
   ]
  },
  {
   "cell_type": "markdown",
   "id": "60cea636",
   "metadata": {},
   "source": [
    "15.  Take Screenshot - Lists at the end of your lists practice.  Done, will add to submission."
   ]
  },
  {
   "cell_type": "markdown",
   "id": "82396ed9",
   "metadata": {},
   "source": [
    "16.  We will learn tuples by working through Section 5.3 Create a tuple (follow instructions in 5.3).  "
   ]
  },
  {
   "cell_type": "code",
   "execution_count": 32,
   "id": "60d5a6cf",
   "metadata": {},
   "outputs": [],
   "source": [
    "points_scored_tuple = (0, 12, 24, 36, 48, 60)"
   ]
  },
  {
   "cell_type": "markdown",
   "id": "22171d6d",
   "metadata": {},
   "source": [
    "17.  Access tuple elements by index."
   ]
  },
  {
   "cell_type": "code",
   "execution_count": 33,
   "id": "00b77b32",
   "metadata": {},
   "outputs": [
    {
     "data": {
      "text/plain": [
       "72"
      ]
     },
     "execution_count": 33,
     "metadata": {},
     "output_type": "execute_result"
    }
   ],
   "source": [
    "points_scored_tuple[0] + points_scored_tuple[2] + points_scored_tuple[4]"
   ]
  },
  {
   "cell_type": "markdown",
   "id": "65884bc4",
   "metadata": {},
   "source": [
    "18.  Use += to add more items to the tuple. "
   ]
  },
  {
   "cell_type": "code",
   "execution_count": 34,
   "id": "6266e725",
   "metadata": {},
   "outputs": [],
   "source": [
    "points_scored_tuple += (72, 84, 96)"
   ]
  },
  {
   "cell_type": "code",
   "execution_count": 35,
   "id": "54f51cbd",
   "metadata": {},
   "outputs": [
    {
     "data": {
      "text/plain": [
       "(0, 12, 24, 36, 48, 60, 72, 84, 96)"
      ]
     },
     "execution_count": 35,
     "metadata": {},
     "output_type": "execute_result"
    }
   ],
   "source": [
    "points_scored_tuple"
   ]
  },
  {
   "cell_type": "markdown",
   "id": "6dfcc56c",
   "metadata": {},
   "source": [
    "19.  Follow the instructions to create a student_tuple with first, last, list of grades. It's very similar to a record in a database. Complete the 5.3 Self Checks."
   ]
  },
  {
   "cell_type": "code",
   "execution_count": 36,
   "id": "cd1a7a38",
   "metadata": {},
   "outputs": [],
   "source": [
    "student_tuple = ('Allen Criger', [100, 94, 96,90])"
   ]
  },
  {
   "cell_type": "code",
   "execution_count": 37,
   "id": "026c1352",
   "metadata": {},
   "outputs": [
    {
     "data": {
      "text/plain": [
       "('Allen Criger', [100, 94, 96, 90])"
      ]
     },
     "execution_count": 37,
     "metadata": {},
     "output_type": "execute_result"
    }
   ],
   "source": [
    "student_tuple"
   ]
  },
  {
   "cell_type": "markdown",
   "id": "bfeafc2a",
   "metadata": {},
   "source": [
    "Self Check 5.3.  1.  False.  2.  False  3.  see code below.  4.  see code below"
   ]
  },
  {
   "cell_type": "code",
   "execution_count": 38,
   "id": "41d074ad",
   "metadata": {},
   "outputs": [],
   "source": [
    "single = (123.45,)"
   ]
  },
  {
   "cell_type": "code",
   "execution_count": 39,
   "id": "b785dac6",
   "metadata": {},
   "outputs": [
    {
     "data": {
      "text/plain": [
       "(123.45,)"
      ]
     },
     "execution_count": 39,
     "metadata": {},
     "output_type": "execute_result"
    }
   ],
   "source": [
    "single"
   ]
  },
  {
   "cell_type": "markdown",
   "id": "fec3f6c3-15f6-42c1-aa13-eff70f50761b",
   "metadata": {},
   "source": [
    "[1, 2, 3] + (4, 5, 6)  (Marked this down so that the entire notebook would run without the error)"
   ]
  },
  {
   "cell_type": "markdown",
   "id": "a99e763a",
   "metadata": {},
   "source": [
    "You get a TypeError because we are concatenating a list and a tuple which are not the same type."
   ]
  },
  {
   "cell_type": "markdown",
   "id": "bc275d62",
   "metadata": {},
   "source": [
    "20.  Work through 5.4, and unpack the tuple (label each of the parts for easier processing) to first_name and grades (a list of the student's grades)."
   ]
  },
  {
   "cell_type": "code",
   "execution_count": 40,
   "id": "5894c883",
   "metadata": {},
   "outputs": [],
   "source": [
    "student_tuple = ('Allen', [90, 92, 95, 98, 100])"
   ]
  },
  {
   "cell_type": "code",
   "execution_count": 41,
   "id": "7cf4331a",
   "metadata": {},
   "outputs": [],
   "source": [
    "first_name, grades = student_tuple"
   ]
  },
  {
   "cell_type": "code",
   "execution_count": 42,
   "id": "d45ba0ca",
   "metadata": {},
   "outputs": [
    {
     "data": {
      "text/plain": [
       "'Allen'"
      ]
     },
     "execution_count": 42,
     "metadata": {},
     "output_type": "execute_result"
    }
   ],
   "source": [
    "first_name"
   ]
  },
  {
   "cell_type": "code",
   "execution_count": 43,
   "id": "416b81f6",
   "metadata": {},
   "outputs": [
    {
     "data": {
      "text/plain": [
       "[90, 92, 95, 98, 100]"
      ]
     },
     "execution_count": 43,
     "metadata": {},
     "output_type": "execute_result"
    }
   ],
   "source": [
    "grades"
   ]
  },
  {
   "cell_type": "markdown",
   "id": "036f7c6b",
   "metadata": {},
   "source": [
    "21.  Continue with 54, especially 'Creating a primative bar chart' to use the index and value from a list of numbers to generate a bar chart with asterisks.\n"
   ]
  },
  {
   "cell_type": "code",
   "execution_count": 44,
   "id": "0e6a7fec",
   "metadata": {},
   "outputs": [],
   "source": [
    "first, second, third, fourth, fifth, sixth = 'Python'"
   ]
  },
  {
   "cell_type": "code",
   "execution_count": 45,
   "id": "dd2d0082",
   "metadata": {},
   "outputs": [
    {
     "name": "stdout",
     "output_type": "stream",
     "text": [
      "P  y  t  h  o  n\n"
     ]
    }
   ],
   "source": [
    "print(f'{first}  {second}  {third}  {fourth}  {fifth}  {sixth}')"
   ]
  },
  {
   "cell_type": "code",
   "execution_count": 46,
   "id": "5c61cc33",
   "metadata": {},
   "outputs": [],
   "source": [
    "number1, number2, number3, number4 = [10, 20, 30, 40]"
   ]
  },
  {
   "cell_type": "code",
   "execution_count": 47,
   "id": "bcda9ee8",
   "metadata": {},
   "outputs": [
    {
     "name": "stdout",
     "output_type": "stream",
     "text": [
      "10  20  30  40\n"
     ]
    }
   ],
   "source": [
    "print(f'{number1}  {number2}  {number3}  {number4}')"
   ]
  },
  {
   "cell_type": "code",
   "execution_count": 48,
   "id": "45e6c7b9",
   "metadata": {},
   "outputs": [],
   "source": [
    "number1 = 5050"
   ]
  },
  {
   "cell_type": "code",
   "execution_count": 49,
   "id": "964b3f18",
   "metadata": {},
   "outputs": [],
   "source": [
    "number2 = 6060"
   ]
  },
  {
   "cell_type": "code",
   "execution_count": 50,
   "id": "25f61b2d",
   "metadata": {},
   "outputs": [],
   "source": [
    "number1, number2 = (number2, number1)"
   ]
  },
  {
   "cell_type": "code",
   "execution_count": 51,
   "id": "6436f71e",
   "metadata": {},
   "outputs": [
    {
     "name": "stdout",
     "output_type": "stream",
     "text": [
      "number1 = 6060; number2 = 5050\n"
     ]
    }
   ],
   "source": [
    "print(f'number1 = {number1}; number2 = {number2}')"
   ]
  },
  {
   "cell_type": "code",
   "execution_count": 52,
   "id": "6fd9fd1b",
   "metadata": {},
   "outputs": [],
   "source": [
    "colors = ['red', 'orange', 'yellow']"
   ]
  },
  {
   "cell_type": "code",
   "execution_count": 53,
   "id": "3b0b2f86",
   "metadata": {},
   "outputs": [
    {
     "data": {
      "text/plain": [
       "[(0, 'red'), (1, 'orange'), (2, 'yellow')]"
      ]
     },
     "execution_count": 53,
     "metadata": {},
     "output_type": "execute_result"
    }
   ],
   "source": [
    "list(enumerate(colors))"
   ]
  },
  {
   "cell_type": "code",
   "execution_count": 54,
   "id": "69308201",
   "metadata": {},
   "outputs": [
    {
     "data": {
      "text/plain": [
       "((0, 'red'), (1, 'orange'), (2, 'yellow'))"
      ]
     },
     "execution_count": 54,
     "metadata": {},
     "output_type": "execute_result"
    }
   ],
   "source": [
    "tuple(enumerate(colors))"
   ]
  },
  {
   "cell_type": "code",
   "execution_count": 55,
   "id": "b1e563be",
   "metadata": {},
   "outputs": [
    {
     "name": "stdout",
     "output_type": "stream",
     "text": [
      "0: red\n",
      "1: orange\n",
      "2: yellow\n"
     ]
    }
   ],
   "source": [
    "for index, value in enumerate(colors):\n",
    "    print(f'{index}: {value}')"
   ]
  },
  {
   "cell_type": "code",
   "execution_count": 56,
   "id": "6b87babe",
   "metadata": {},
   "outputs": [],
   "source": [
    "football_scores = [14, 28, 30, 37, 6, 0]"
   ]
  },
  {
   "cell_type": "code",
   "execution_count": 57,
   "id": "279e7e4a",
   "metadata": {},
   "outputs": [
    {
     "name": "stdout",
     "output_type": "stream",
     "text": [
      "\n",
      "Bar Chart of Football Scores:\n",
      " \n",
      "    Index    Score    Bar\n",
      "      0       14      **************\n",
      "      1       28      ****************************\n",
      "      2       30      ******************************\n",
      "      3       37      *************************************\n",
      "      4        6      ******\n",
      "      5        0      \n"
     ]
    }
   ],
   "source": [
    "print('\\nBar Chart of Football Scores:')\n",
    "print(\" \")\n",
    "print(f'    Index{\"Score\":>9}    Bar')\n",
    "for index, score in enumerate(football_scores):\n",
    "    print(f'{index:>7}{score:>9}      {\"*\" * score}')"
   ]
  },
  {
   "cell_type": "markdown",
   "id": "cd8db1b6",
   "metadata": {},
   "source": [
    "22.  Take Screenshot - Tuples and Unpacking tuples and unpacking sequences practice.  Will include on submission."
   ]
  },
  {
   "cell_type": "markdown",
   "id": "ebc40d45",
   "metadata": {},
   "source": [
    "23.  Work through all of Section 5.5 to practice slicing."
   ]
  },
  {
   "cell_type": "code",
   "execution_count": 58,
   "id": "b4eac8e6",
   "metadata": {},
   "outputs": [],
   "source": [
    "numbers = [4, 5, 7, 9, 13, 15, 19, 21]"
   ]
  },
  {
   "cell_type": "code",
   "execution_count": 59,
   "id": "ced9bc74",
   "metadata": {},
   "outputs": [
    {
     "data": {
      "text/plain": [
       "[7, 9, 13, 15]"
      ]
     },
     "execution_count": 59,
     "metadata": {},
     "output_type": "execute_result"
    }
   ],
   "source": [
    "numbers[2:6]"
   ]
  },
  {
   "cell_type": "code",
   "execution_count": 60,
   "id": "7bd6a89a",
   "metadata": {},
   "outputs": [
    {
     "data": {
      "text/plain": [
       "[4, 5, 7, 9, 13, 15]"
      ]
     },
     "execution_count": 60,
     "metadata": {},
     "output_type": "execute_result"
    }
   ],
   "source": [
    "numbers[:6]"
   ]
  },
  {
   "cell_type": "code",
   "execution_count": 61,
   "id": "b070c58e",
   "metadata": {},
   "outputs": [
    {
     "data": {
      "text/plain": [
       "[4, 5, 7, 9, 13, 15]"
      ]
     },
     "execution_count": 61,
     "metadata": {},
     "output_type": "execute_result"
    }
   ],
   "source": [
    "numbers[0:6]"
   ]
  },
  {
   "cell_type": "code",
   "execution_count": 62,
   "id": "5baf83c2",
   "metadata": {},
   "outputs": [
    {
     "data": {
      "text/plain": [
       "[19, 21]"
      ]
     },
     "execution_count": 62,
     "metadata": {},
     "output_type": "execute_result"
    }
   ],
   "source": [
    "numbers[6:]"
   ]
  },
  {
   "cell_type": "code",
   "execution_count": 63,
   "id": "3d486dd8",
   "metadata": {},
   "outputs": [
    {
     "data": {
      "text/plain": [
       "[19, 21]"
      ]
     },
     "execution_count": 63,
     "metadata": {},
     "output_type": "execute_result"
    }
   ],
   "source": [
    "numbers[6:len(numbers)]"
   ]
  },
  {
   "cell_type": "code",
   "execution_count": 64,
   "id": "298bf288",
   "metadata": {},
   "outputs": [
    {
     "data": {
      "text/plain": [
       "[4, 5, 7, 9, 13, 15, 19, 21]"
      ]
     },
     "execution_count": 64,
     "metadata": {},
     "output_type": "execute_result"
    }
   ],
   "source": [
    "numbers[:]"
   ]
  },
  {
   "cell_type": "code",
   "execution_count": 65,
   "id": "483037dd",
   "metadata": {},
   "outputs": [
    {
     "data": {
      "text/plain": [
       "[4, 7, 13, 19]"
      ]
     },
     "execution_count": 65,
     "metadata": {},
     "output_type": "execute_result"
    }
   ],
   "source": [
    "numbers[::2]"
   ]
  },
  {
   "cell_type": "code",
   "execution_count": 66,
   "id": "fb9bd028",
   "metadata": {},
   "outputs": [
    {
     "data": {
      "text/plain": [
       "[21, 19, 15, 13, 9, 7, 5, 4]"
      ]
     },
     "execution_count": 66,
     "metadata": {},
     "output_type": "execute_result"
    }
   ],
   "source": [
    "numbers[::-1]"
   ]
  },
  {
   "cell_type": "code",
   "execution_count": 67,
   "id": "35045ed8",
   "metadata": {},
   "outputs": [],
   "source": [
    "numbers[0:3] = ['four', 'five', 'seven']"
   ]
  },
  {
   "cell_type": "code",
   "execution_count": 68,
   "id": "0d267fe6",
   "metadata": {},
   "outputs": [
    {
     "data": {
      "text/plain": [
       "['four', 'five', 'seven', 9, 13, 15, 19, 21]"
      ]
     },
     "execution_count": 68,
     "metadata": {},
     "output_type": "execute_result"
    }
   ],
   "source": [
    "numbers"
   ]
  },
  {
   "cell_type": "code",
   "execution_count": 69,
   "id": "d1bf81aa",
   "metadata": {},
   "outputs": [],
   "source": [
    "numbers[0:3] = []"
   ]
  },
  {
   "cell_type": "code",
   "execution_count": 70,
   "id": "bb891b30",
   "metadata": {},
   "outputs": [
    {
     "data": {
      "text/plain": [
       "[9, 13, 15, 19, 21]"
      ]
     },
     "execution_count": 70,
     "metadata": {},
     "output_type": "execute_result"
    }
   ],
   "source": [
    "numbers"
   ]
  },
  {
   "cell_type": "code",
   "execution_count": 71,
   "id": "67c20b08",
   "metadata": {},
   "outputs": [],
   "source": [
    "numbers = [4, 5, 7, 9, 13, 15, 19, 21]"
   ]
  },
  {
   "cell_type": "code",
   "execution_count": 72,
   "id": "56fcf9cf",
   "metadata": {},
   "outputs": [],
   "source": [
    "numbers[::2] = [500, 500, 500, 500]"
   ]
  },
  {
   "cell_type": "code",
   "execution_count": 73,
   "id": "eda8e79c",
   "metadata": {},
   "outputs": [
    {
     "data": {
      "text/plain": [
       "[500, 5, 500, 9, 500, 15, 500, 21]"
      ]
     },
     "execution_count": 73,
     "metadata": {},
     "output_type": "execute_result"
    }
   ],
   "source": [
    "numbers"
   ]
  },
  {
   "cell_type": "code",
   "execution_count": 74,
   "id": "3df24c1e",
   "metadata": {},
   "outputs": [
    {
     "data": {
      "text/plain": [
       "2397172605952"
      ]
     },
     "execution_count": 74,
     "metadata": {},
     "output_type": "execute_result"
    }
   ],
   "source": [
    "id(numbers)"
   ]
  },
  {
   "cell_type": "code",
   "execution_count": 75,
   "id": "227b6c4f",
   "metadata": {},
   "outputs": [],
   "source": [
    "numbers[:] = []"
   ]
  },
  {
   "cell_type": "code",
   "execution_count": 76,
   "id": "2a9556ff",
   "metadata": {},
   "outputs": [
    {
     "data": {
      "text/plain": [
       "[]"
      ]
     },
     "execution_count": 76,
     "metadata": {},
     "output_type": "execute_result"
    }
   ],
   "source": [
    "numbers"
   ]
  },
  {
   "cell_type": "code",
   "execution_count": 77,
   "id": "d94dbf2e",
   "metadata": {},
   "outputs": [
    {
     "data": {
      "text/plain": [
       "2397172605952"
      ]
     },
     "execution_count": 77,
     "metadata": {},
     "output_type": "execute_result"
    }
   ],
   "source": [
    "id(numbers)"
   ]
  },
  {
   "cell_type": "code",
   "execution_count": 78,
   "id": "efba2dea",
   "metadata": {},
   "outputs": [],
   "source": [
    "numbers = []"
   ]
  },
  {
   "cell_type": "code",
   "execution_count": 79,
   "id": "844e84b1",
   "metadata": {},
   "outputs": [
    {
     "data": {
      "text/plain": [
       "[]"
      ]
     },
     "execution_count": 79,
     "metadata": {},
     "output_type": "execute_result"
    }
   ],
   "source": [
    "numbers"
   ]
  },
  {
   "cell_type": "code",
   "execution_count": 80,
   "id": "4f65c9b0",
   "metadata": {},
   "outputs": [
    {
     "data": {
      "text/plain": [
       "2397190371392"
      ]
     },
     "execution_count": 80,
     "metadata": {},
     "output_type": "execute_result"
    }
   ],
   "source": [
    "id(numbers)"
   ]
  },
  {
   "cell_type": "markdown",
   "id": "d3c118ee",
   "metadata": {},
   "source": [
    "24,  Complete Section 5.5 Self Checks. This includes self check 3 - create a numbers list and use slices (subsections) of the list to get even numbers, replace some values with 0, keep only the first 5 values, and finally, delete all values by assigning the entire substring to an empty list (numbers[:] =[]).  Slices (substrings) are super powerful for processing strings (stored as lists of characters).  You can process Romeo and Juliet and replace every occurrence of Romeo with your friends name. :)"
   ]
  },
  {
   "cell_type": "code",
   "execution_count": 81,
   "id": "37406af7",
   "metadata": {},
   "outputs": [],
   "source": [
    "numbers = list(range(1, 16))"
   ]
  },
  {
   "cell_type": "code",
   "execution_count": 82,
   "id": "f42e9b6d",
   "metadata": {},
   "outputs": [
    {
     "data": {
      "text/plain": [
       "[1, 2, 3, 4, 5, 6, 7, 8, 9, 10, 11, 12, 13, 14, 15]"
      ]
     },
     "execution_count": 82,
     "metadata": {},
     "output_type": "execute_result"
    }
   ],
   "source": [
    "numbers"
   ]
  },
  {
   "cell_type": "code",
   "execution_count": 83,
   "id": "c1e49aec",
   "metadata": {},
   "outputs": [
    {
     "data": {
      "text/plain": [
       "[2, 4, 6, 8, 10, 12, 14]"
      ]
     },
     "execution_count": 83,
     "metadata": {},
     "output_type": "execute_result"
    }
   ],
   "source": [
    "numbers[1:len(numbers):2]"
   ]
  },
  {
   "cell_type": "code",
   "execution_count": 84,
   "id": "9fd8fb61",
   "metadata": {},
   "outputs": [],
   "source": [
    "numbers[5:10] = [0] * len(numbers[5:10])"
   ]
  },
  {
   "cell_type": "code",
   "execution_count": 85,
   "id": "bb14957e",
   "metadata": {},
   "outputs": [
    {
     "data": {
      "text/plain": [
       "[1, 2, 3, 4, 5, 0, 0, 0, 0, 0, 11, 12, 13, 14, 15]"
      ]
     },
     "execution_count": 85,
     "metadata": {},
     "output_type": "execute_result"
    }
   ],
   "source": [
    "numbers"
   ]
  },
  {
   "cell_type": "code",
   "execution_count": 86,
   "id": "323fcdb8",
   "metadata": {},
   "outputs": [],
   "source": [
    "numbers[5:] = []"
   ]
  },
  {
   "cell_type": "code",
   "execution_count": 87,
   "id": "aa95c8f1",
   "metadata": {},
   "outputs": [
    {
     "data": {
      "text/plain": [
       "[1, 2, 3, 4, 5]"
      ]
     },
     "execution_count": 87,
     "metadata": {},
     "output_type": "execute_result"
    }
   ],
   "source": [
    "numbers"
   ]
  },
  {
   "cell_type": "code",
   "execution_count": 88,
   "id": "5ed986ac",
   "metadata": {},
   "outputs": [],
   "source": [
    "numbers[:] = []"
   ]
  },
  {
   "cell_type": "code",
   "execution_count": 89,
   "id": "695ad46e",
   "metadata": {},
   "outputs": [
    {
     "data": {
      "text/plain": [
       "[]"
      ]
     },
     "execution_count": 89,
     "metadata": {},
     "output_type": "execute_result"
    }
   ],
   "source": [
    "numbers"
   ]
  },
  {
   "cell_type": "markdown",
   "id": "a270fb7c",
   "metadata": {},
   "source": [
    "25.  Work through 5.6 to learn to use the del statement to del parts of the list. Complete the self checks. "
   ]
  },
  {
   "cell_type": "code",
   "execution_count": 90,
   "id": "f24bc166",
   "metadata": {},
   "outputs": [],
   "source": [
    "numbers = list(range(0,10))"
   ]
  },
  {
   "cell_type": "code",
   "execution_count": 91,
   "id": "83b863ba",
   "metadata": {},
   "outputs": [
    {
     "data": {
      "text/plain": [
       "[0, 1, 2, 3, 4, 5, 6, 7, 8, 9]"
      ]
     },
     "execution_count": 91,
     "metadata": {},
     "output_type": "execute_result"
    }
   ],
   "source": [
    "numbers"
   ]
  },
  {
   "cell_type": "code",
   "execution_count": 92,
   "id": "8f9c15fb",
   "metadata": {},
   "outputs": [],
   "source": [
    "del numbers[-1]"
   ]
  },
  {
   "cell_type": "code",
   "execution_count": 93,
   "id": "9b0f55c7",
   "metadata": {},
   "outputs": [
    {
     "data": {
      "text/plain": [
       "[0, 1, 2, 3, 4, 5, 6, 7, 8]"
      ]
     },
     "execution_count": 93,
     "metadata": {},
     "output_type": "execute_result"
    }
   ],
   "source": [
    "numbers"
   ]
  },
  {
   "cell_type": "code",
   "execution_count": 94,
   "id": "fbaa716d",
   "metadata": {},
   "outputs": [],
   "source": [
    "del numbers[0:2]"
   ]
  },
  {
   "cell_type": "code",
   "execution_count": 95,
   "id": "d87a73ed",
   "metadata": {},
   "outputs": [
    {
     "data": {
      "text/plain": [
       "[2, 3, 4, 5, 6, 7, 8]"
      ]
     },
     "execution_count": 95,
     "metadata": {},
     "output_type": "execute_result"
    }
   ],
   "source": [
    "numbers"
   ]
  },
  {
   "cell_type": "code",
   "execution_count": 96,
   "id": "5d596f2d",
   "metadata": {},
   "outputs": [],
   "source": [
    "del numbers[::2]"
   ]
  },
  {
   "cell_type": "code",
   "execution_count": 97,
   "id": "82e259dd",
   "metadata": {},
   "outputs": [
    {
     "data": {
      "text/plain": [
       "[3, 5, 7]"
      ]
     },
     "execution_count": 97,
     "metadata": {},
     "output_type": "execute_result"
    }
   ],
   "source": [
    "numbers"
   ]
  },
  {
   "cell_type": "code",
   "execution_count": 98,
   "id": "2101ec60",
   "metadata": {},
   "outputs": [],
   "source": [
    "del numbers[:]"
   ]
  },
  {
   "cell_type": "code",
   "execution_count": 99,
   "id": "6174f193",
   "metadata": {},
   "outputs": [
    {
     "data": {
      "text/plain": [
       "[]"
      ]
     },
     "execution_count": 99,
     "metadata": {},
     "output_type": "execute_result"
    }
   ],
   "source": [
    "numbers"
   ]
  },
  {
   "cell_type": "code",
   "execution_count": 100,
   "id": "37bfd301-d332-4b86-b3f6-bf3290c9ceb1",
   "metadata": {},
   "outputs": [],
   "source": [
    "del numbers "
   ]
  },
  {
   "cell_type": "markdown",
   "id": "3a7bbe64-9da6-4454-b11e-a416d9bd95b9",
   "metadata": {},
   "source": [
    "numbers  (marked this down to avoid error when entire notebook is run)"
   ]
  },
  {
   "cell_type": "markdown",
   "id": "9ebe6fc6",
   "metadata": {},
   "source": [
    "This error exists because we ask Python to display numbers after it was deleted"
   ]
  },
  {
   "cell_type": "markdown",
   "id": "343eddda",
   "metadata": {},
   "source": [
    "Self Check 5.6  1.  9  2.  See Code Below"
   ]
  },
  {
   "cell_type": "code",
   "execution_count": 101,
   "id": "147a3e8d",
   "metadata": {},
   "outputs": [],
   "source": [
    "numbers = list(range(1,16))"
   ]
  },
  {
   "cell_type": "code",
   "execution_count": 102,
   "id": "c946fb7a",
   "metadata": {},
   "outputs": [
    {
     "data": {
      "text/plain": [
       "[1, 2, 3, 4, 5, 6, 7, 8, 9, 10, 11, 12, 13, 14, 15]"
      ]
     },
     "execution_count": 102,
     "metadata": {},
     "output_type": "execute_result"
    }
   ],
   "source": [
    "numbers"
   ]
  },
  {
   "cell_type": "code",
   "execution_count": 103,
   "id": "877905ad",
   "metadata": {},
   "outputs": [],
   "source": [
    "del numbers [0:4]"
   ]
  },
  {
   "cell_type": "code",
   "execution_count": 104,
   "id": "5ff6ce0a",
   "metadata": {},
   "outputs": [
    {
     "data": {
      "text/plain": [
       "[5, 6, 7, 8, 9, 10, 11, 12, 13, 14, 15]"
      ]
     },
     "execution_count": 104,
     "metadata": {},
     "output_type": "execute_result"
    }
   ],
   "source": [
    "numbers"
   ]
  },
  {
   "cell_type": "code",
   "execution_count": 105,
   "id": "902f580b",
   "metadata": {},
   "outputs": [],
   "source": [
    "del numbers[::2]"
   ]
  },
  {
   "cell_type": "code",
   "execution_count": 106,
   "id": "1ff38783",
   "metadata": {},
   "outputs": [
    {
     "data": {
      "text/plain": [
       "[6, 8, 10, 12, 14]"
      ]
     },
     "execution_count": 106,
     "metadata": {},
     "output_type": "execute_result"
    }
   ],
   "source": [
    "numbers"
   ]
  },
  {
   "cell_type": "markdown",
   "id": "3cac77d3",
   "metadata": {},
   "source": [
    "26.  Work through 5.7 to practice passing a list into a function. Complete the self checks. "
   ]
  },
  {
   "cell_type": "code",
   "execution_count": 107,
   "id": "3b5ec125",
   "metadata": {},
   "outputs": [],
   "source": [
    "def mod_elements(items):\n",
    "    for i in range(len(items)):\n",
    "        items[i] *= 5"
   ]
  },
  {
   "cell_type": "code",
   "execution_count": 108,
   "id": "3cc88ba5",
   "metadata": {},
   "outputs": [],
   "source": [
    "numbers = [0, 3, 8, 8, 11]"
   ]
  },
  {
   "cell_type": "code",
   "execution_count": 109,
   "id": "e64948da",
   "metadata": {},
   "outputs": [],
   "source": [
    "mod_elements(numbers)"
   ]
  },
  {
   "cell_type": "code",
   "execution_count": 110,
   "id": "c90e2fcf",
   "metadata": {},
   "outputs": [
    {
     "data": {
      "text/plain": [
       "[0, 15, 40, 40, 55]"
      ]
     },
     "execution_count": 110,
     "metadata": {},
     "output_type": "execute_result"
    }
   ],
   "source": [
    "numbers"
   ]
  },
  {
   "cell_type": "code",
   "execution_count": 111,
   "id": "fc33df26",
   "metadata": {},
   "outputs": [],
   "source": [
    "numbers_tuple = (10, 20, 30)"
   ]
  },
  {
   "cell_type": "code",
   "execution_count": 112,
   "id": "2835b50c",
   "metadata": {},
   "outputs": [
    {
     "data": {
      "text/plain": [
       "(10, 20, 30)"
      ]
     },
     "execution_count": 112,
     "metadata": {},
     "output_type": "execute_result"
    }
   ],
   "source": [
    "numbers_tuple"
   ]
  },
  {
   "cell_type": "markdown",
   "id": "b4df9555-6cc0-4466-afbb-01b8eea012f9",
   "metadata": {},
   "source": [
    "mod_elements(numbers_tuple)  (marked this down to avoid error when entire notebook is run)"
   ]
  },
  {
   "cell_type": "markdown",
   "id": "feb8faee",
   "metadata": {},
   "source": [
    "This TypeError occurs because tuple is immutable"
   ]
  },
  {
   "cell_type": "markdown",
   "id": "012e8246",
   "metadata": {},
   "source": [
    "Self Check 5.7  1.  False, lists are mutable  2.  True"
   ]
  },
  {
   "cell_type": "markdown",
   "id": "a1066eb1-3d9f-4012-bce1-aa98bfcc19d7",
   "metadata": {},
   "source": [
    "27.  Work through 5.8 to learn to use the list sort() function to change the list into a sorted order. Use (reverse=True) to sort in descending order instead."
   ]
  },
  {
   "cell_type": "code",
   "execution_count": 113,
   "id": "33ac642a-e508-4e54-9038-f8cafc8e2d42",
   "metadata": {},
   "outputs": [],
   "source": [
    "numbers = [100, 30, 70, 10, 90, 40, 20, 80, 50, 60]"
   ]
  },
  {
   "cell_type": "code",
   "execution_count": 114,
   "id": "3e110ca6-be74-4c1f-97aa-bc4609ada1d6",
   "metadata": {},
   "outputs": [],
   "source": [
    "numbers.sort()"
   ]
  },
  {
   "cell_type": "code",
   "execution_count": 115,
   "id": "88d9c601-3cf3-46b4-a407-8ac5e2cadb77",
   "metadata": {},
   "outputs": [
    {
     "data": {
      "text/plain": [
       "[10, 20, 30, 40, 50, 60, 70, 80, 90, 100]"
      ]
     },
     "execution_count": 115,
     "metadata": {},
     "output_type": "execute_result"
    }
   ],
   "source": [
    "numbers"
   ]
  },
  {
   "cell_type": "code",
   "execution_count": 116,
   "id": "bd2aea53-6b62-4065-8f9f-1681b94e4da1",
   "metadata": {},
   "outputs": [],
   "source": [
    "numbers.sort(reverse=True)"
   ]
  },
  {
   "cell_type": "code",
   "execution_count": 117,
   "id": "91b0e5ca-3b30-4711-8bcf-b6f95d683f98",
   "metadata": {},
   "outputs": [
    {
     "data": {
      "text/plain": [
       "[100, 90, 80, 70, 60, 50, 40, 30, 20, 10]"
      ]
     },
     "execution_count": 117,
     "metadata": {},
     "output_type": "execute_result"
    }
   ],
   "source": [
    "numbers"
   ]
  },
  {
   "cell_type": "markdown",
   "id": "b25bc81b-00d1-44f8-a173-042f308a5ca0",
   "metadata": {},
   "source": [
    "28.  As you work, practice with Python's built in function sorted() that accepts a list as a parameter. This lets us keep our original list unchanged (generally, a safe practice when working with data)"
   ]
  },
  {
   "cell_type": "code",
   "execution_count": 118,
   "id": "1c4d5a3d-e00b-435c-9aa4-afb53af3a981",
   "metadata": {},
   "outputs": [],
   "source": [
    "numbers = [100, 30, 70, 10, 90, 40, 20, 80, 50, 60]"
   ]
  },
  {
   "cell_type": "code",
   "execution_count": 119,
   "id": "1cf8c74a-7237-4b38-ab56-6d4efaeeb80f",
   "metadata": {},
   "outputs": [],
   "source": [
    "ascending_numbers = sorted(numbers)"
   ]
  },
  {
   "cell_type": "code",
   "execution_count": 120,
   "id": "fb095b93-ac44-40f0-9c48-d02754cc7d08",
   "metadata": {},
   "outputs": [
    {
     "data": {
      "text/plain": [
       "[10, 20, 30, 40, 50, 60, 70, 80, 90, 100]"
      ]
     },
     "execution_count": 120,
     "metadata": {},
     "output_type": "execute_result"
    }
   ],
   "source": [
    "ascending_numbers"
   ]
  },
  {
   "cell_type": "code",
   "execution_count": 121,
   "id": "b0c5a447-71d7-4908-9a7f-fa0eb191ab91",
   "metadata": {},
   "outputs": [
    {
     "data": {
      "text/plain": [
       "[100, 30, 70, 10, 90, 40, 20, 80, 50, 60]"
      ]
     },
     "execution_count": 121,
     "metadata": {},
     "output_type": "execute_result"
    }
   ],
   "source": [
    "numbers"
   ]
  },
  {
   "cell_type": "code",
   "execution_count": 122,
   "id": "5098c4ee-b2d9-457d-982e-c34a306e91dc",
   "metadata": {},
   "outputs": [],
   "source": [
    "letters = 'sadfassadfds'"
   ]
  },
  {
   "cell_type": "code",
   "execution_count": 123,
   "id": "977c1ab6-9d79-4782-983a-349372f3c269",
   "metadata": {},
   "outputs": [],
   "source": [
    "ascending_letters = sorted(letters)"
   ]
  },
  {
   "cell_type": "code",
   "execution_count": 124,
   "id": "0be57a86-7d9e-43e6-a259-878aadcf2b67",
   "metadata": {},
   "outputs": [
    {
     "data": {
      "text/plain": [
       "['a', 'a', 'a', 'd', 'd', 'd', 'f', 'f', 's', 's', 's', 's']"
      ]
     },
     "execution_count": 124,
     "metadata": {},
     "output_type": "execute_result"
    }
   ],
   "source": [
    "ascending_letters"
   ]
  },
  {
   "cell_type": "code",
   "execution_count": 125,
   "id": "6444cc7e-3157-496a-8c40-55d65ffe106c",
   "metadata": {},
   "outputs": [
    {
     "data": {
      "text/plain": [
       "'sadfassadfds'"
      ]
     },
     "execution_count": 125,
     "metadata": {},
     "output_type": "execute_result"
    }
   ],
   "source": [
    "letters"
   ]
  },
  {
   "cell_type": "code",
   "execution_count": 126,
   "id": "4ad044fd-bc80-4db7-8a97-e62b76cce6ab",
   "metadata": {},
   "outputs": [],
   "source": [
    "colors = ('red', 'orange', 'yellow', 'green', 'blue', 'pink', 'purple')"
   ]
  },
  {
   "cell_type": "code",
   "execution_count": 127,
   "id": "193d6506-e762-4118-8948-5c8f73ce550a",
   "metadata": {},
   "outputs": [],
   "source": [
    "ascending_colors = sorted(colors)"
   ]
  },
  {
   "cell_type": "code",
   "execution_count": 128,
   "id": "cf91b947-1a8e-4269-857b-724324a4e536",
   "metadata": {},
   "outputs": [
    {
     "data": {
      "text/plain": [
       "['blue', 'green', 'orange', 'pink', 'purple', 'red', 'yellow']"
      ]
     },
     "execution_count": 128,
     "metadata": {},
     "output_type": "execute_result"
    }
   ],
   "source": [
    "ascending_colors"
   ]
  },
  {
   "cell_type": "code",
   "execution_count": 129,
   "id": "0d227219-6347-41af-8eec-0daeced9fc29",
   "metadata": {},
   "outputs": [
    {
     "data": {
      "text/plain": [
       "('red', 'orange', 'yellow', 'green', 'blue', 'pink', 'purple')"
      ]
     },
     "execution_count": 129,
     "metadata": {},
     "output_type": "execute_result"
    }
   ],
   "source": [
    "colors"
   ]
  },
  {
   "cell_type": "markdown",
   "id": "aebe1b94-d2eb-4aeb-9f9c-4a50572bb827",
   "metadata": {},
   "source": [
    "29.  Complete the 5.8 Self Checks, especially working through the example in 5.8 Self Check 3 to learn about lexigraphical order when sorting text. Note that uppercase letters have a higher numerical value than lowercase letters. "
   ]
  },
  {
   "cell_type": "markdown",
   "id": "a1d67e38-a1d3-42d8-8117-040b6fc70bca",
   "metadata": {},
   "source": [
    "Self Check 5.8.  1.  reverse  2.  false  3.  see code below"
   ]
  },
  {
   "cell_type": "code",
   "execution_count": 130,
   "id": "7a0717b5-85aa-46c1-a41d-3fa4913d8742",
   "metadata": {},
   "outputs": [],
   "source": [
    "foods = ['Cookies', 'pizza', 'Grapes', 'apples', 'steak', 'Bacon']"
   ]
  },
  {
   "cell_type": "code",
   "execution_count": 131,
   "id": "5b27e4eb-3e4e-43d0-baa8-5d4d91ee6e68",
   "metadata": {},
   "outputs": [],
   "source": [
    "foods.sort()"
   ]
  },
  {
   "cell_type": "code",
   "execution_count": 132,
   "id": "6ca6c2a8-5edf-4528-94a4-22dd4282f712",
   "metadata": {},
   "outputs": [
    {
     "data": {
      "text/plain": [
       "['Bacon', 'Cookies', 'Grapes', 'apples', 'pizza', 'steak']"
      ]
     },
     "execution_count": 132,
     "metadata": {},
     "output_type": "execute_result"
    }
   ],
   "source": [
    "foods"
   ]
  },
  {
   "cell_type": "markdown",
   "id": "7a035093-ed58-4619-9b23-cd29ef81b425",
   "metadata": {},
   "source": [
    "30.  Work through 5.9 to learn about searching sequences with the list index function, and in and not in.  We also have any and all, making Python pretty closely related to the way we actually talk about lists. Are there any negative numbers in the list? Are all of the list values positive?"
   ]
  },
  {
   "cell_type": "code",
   "execution_count": 133,
   "id": "4bfecf9d-c96b-4837-b096-9091751276ed",
   "metadata": {},
   "outputs": [],
   "source": [
    "numbers = [6, 10, 4, 7, 5, 11, 8, 9]"
   ]
  },
  {
   "cell_type": "code",
   "execution_count": 134,
   "id": "6c249a79-2241-432b-9251-13b7505b0af0",
   "metadata": {},
   "outputs": [
    {
     "data": {
      "text/plain": [
       "6"
      ]
     },
     "execution_count": 134,
     "metadata": {},
     "output_type": "execute_result"
    }
   ],
   "source": [
    "numbers.index(8)"
   ]
  },
  {
   "cell_type": "code",
   "execution_count": 135,
   "id": "801a80df-13d0-465e-97f3-0cdf16807771",
   "metadata": {},
   "outputs": [],
   "source": [
    "numbers *= 2"
   ]
  },
  {
   "cell_type": "code",
   "execution_count": 136,
   "id": "2f21115a-6261-4c9b-87fb-6f58223f4bdc",
   "metadata": {},
   "outputs": [
    {
     "data": {
      "text/plain": [
       "[6, 10, 4, 7, 5, 11, 8, 9, 6, 10, 4, 7, 5, 11, 8, 9]"
      ]
     },
     "execution_count": 136,
     "metadata": {},
     "output_type": "execute_result"
    }
   ],
   "source": [
    "numbers"
   ]
  },
  {
   "cell_type": "code",
   "execution_count": 137,
   "id": "13d2b3db-6676-4b72-a026-8569041824ad",
   "metadata": {},
   "outputs": [
    {
     "data": {
      "text/plain": [
       "14"
      ]
     },
     "execution_count": 137,
     "metadata": {},
     "output_type": "execute_result"
    }
   ],
   "source": [
    "numbers.index(8, 7)"
   ]
  },
  {
   "cell_type": "code",
   "execution_count": 138,
   "id": "c44b2cdb-b308-462f-8d10-709831159ed0",
   "metadata": {},
   "outputs": [
    {
     "data": {
      "text/plain": [
       "1"
      ]
     },
     "execution_count": 138,
     "metadata": {},
     "output_type": "execute_result"
    }
   ],
   "source": [
    "numbers.index(10, 0 , 4)"
   ]
  },
  {
   "cell_type": "code",
   "execution_count": 139,
   "id": "45deb860-deff-4b94-9d5f-71f0a8190f6a",
   "metadata": {},
   "outputs": [
    {
     "data": {
      "text/plain": [
       "False"
      ]
     },
     "execution_count": 139,
     "metadata": {},
     "output_type": "execute_result"
    }
   ],
   "source": [
    "1000 in numbers"
   ]
  },
  {
   "cell_type": "code",
   "execution_count": 140,
   "id": "86881968-67eb-4bb0-a76d-c3ccf63c58e9",
   "metadata": {},
   "outputs": [
    {
     "data": {
      "text/plain": [
       "True"
      ]
     },
     "execution_count": 140,
     "metadata": {},
     "output_type": "execute_result"
    }
   ],
   "source": [
    "8 in numbers"
   ]
  },
  {
   "cell_type": "code",
   "execution_count": 141,
   "id": "a738fcda-eabc-49dc-b879-e3624ba7d091",
   "metadata": {},
   "outputs": [
    {
     "data": {
      "text/plain": [
       "True"
      ]
     },
     "execution_count": 141,
     "metadata": {},
     "output_type": "execute_result"
    }
   ],
   "source": [
    "1000 not in numbers"
   ]
  },
  {
   "cell_type": "code",
   "execution_count": 142,
   "id": "35f77905-21a0-4533-9282-57a06424b6e5",
   "metadata": {},
   "outputs": [
    {
     "data": {
      "text/plain": [
       "False"
      ]
     },
     "execution_count": 142,
     "metadata": {},
     "output_type": "execute_result"
    }
   ],
   "source": [
    "5 not in numbers"
   ]
  },
  {
   "cell_type": "code",
   "execution_count": 143,
   "id": "4c4ddbbd-b491-4101-a840-e7e3a8a70961",
   "metadata": {},
   "outputs": [],
   "source": [
    "key = 1000"
   ]
  },
  {
   "cell_type": "code",
   "execution_count": 144,
   "id": "5f885e1c-0c31-4d3b-9945-4650f1177938",
   "metadata": {},
   "outputs": [
    {
     "name": "stdout",
     "output_type": "stream",
     "text": [
      "1000 not found\n"
     ]
    }
   ],
   "source": [
    "if key in numbers:\n",
    "    print(f'found {key} at index {numbers.index(key)}')\n",
    "else:\n",
    "    print(f'{key} not found')"
   ]
  },
  {
   "cell_type": "markdown",
   "id": "85104105-1a8d-4727-8a7c-d710e3320592",
   "metadata": {},
   "source": [
    "There are no negative numbers in the list, they are all positive.  I changed 4 to -4 and re-ran the code, and the functions work with negatives as well.  I then changed it back to positive."
   ]
  },
  {
   "cell_type": "markdown",
   "id": "dff0b0e3-3d37-4376-9114-a2a5dd744fd8",
   "metadata": {},
   "source": [
    "31.  Work through the 5.9 self checks. "
   ]
  },
  {
   "cell_type": "markdown",
   "id": "e8339141-22a9-4e40-9c0b-31e718e647c3",
   "metadata": {},
   "source": [
    "Self Check 5.9.  1.  *=  2.  in, not in  3.  see code below"
   ]
  },
  {
   "cell_type": "code",
   "execution_count": 145,
   "id": "01e5df56-405a-4e4f-a1da-08ac4ed47985",
   "metadata": {},
   "outputs": [],
   "source": [
    "numbers = [67, 12, 46, 43, 13]"
   ]
  },
  {
   "cell_type": "code",
   "execution_count": 146,
   "id": "bc9a53ac-64f0-4aee-9926-7f3522e8e555",
   "metadata": {},
   "outputs": [
    {
     "data": {
      "text/plain": [
       "3"
      ]
     },
     "execution_count": 146,
     "metadata": {},
     "output_type": "execute_result"
    }
   ],
   "source": [
    "numbers.index(43)"
   ]
  },
  {
   "cell_type": "code",
   "execution_count": 147,
   "id": "a93b8ce8-786b-438c-8aec-65612af8c818",
   "metadata": {},
   "outputs": [
    {
     "name": "stdout",
     "output_type": "stream",
     "text": [
      "44 not found\n"
     ]
    }
   ],
   "source": [
    "if 44 in numbers:\n",
    "    print(f'Found 44 at index: {numbers.index(44)}')\n",
    "else:\n",
    "    print('44 not found')"
   ]
  },
  {
   "cell_type": "markdown",
   "id": "0617f3c2-d140-4e6e-8467-c8300dd3e679",
   "metadata": {},
   "source": [
    "32.  Read the rest of the chapter to see more list functions including: insert(), append(), extend(), remove(), clear(), count(), reverse(), copy(), push(), and pop().   I read the rest of the chapter."
   ]
  },
  {
   "cell_type": "markdown",
   "id": "3f164798-cef2-44f0-a785-44f790e6a586",
   "metadata": {},
   "source": [
    "33.  Work through 5.12 to learn to use a list comprehension to create a list automagically, e.g., list2 = [item for item in range(1,600)].  Still uses square braces, and we've seen the range function before. Pretty powerful. Complete the 5.12 self checks."
   ]
  },
  {
   "cell_type": "code",
   "execution_count": 148,
   "id": "46587c1d-4e89-496a-8d84-205d45270fb9",
   "metadata": {},
   "outputs": [],
   "source": [
    "list1 = []"
   ]
  },
  {
   "cell_type": "code",
   "execution_count": 149,
   "id": "b1145611-d1d1-4598-8161-ab0a235f9edc",
   "metadata": {},
   "outputs": [],
   "source": [
    "for item in range(1, 11):\n",
    "    list1.append(item)"
   ]
  },
  {
   "cell_type": "code",
   "execution_count": 150,
   "id": "60b3462e-4eca-417f-b339-d3a532a94ecb",
   "metadata": {},
   "outputs": [
    {
     "data": {
      "text/plain": [
       "[1, 2, 3, 4, 5, 6, 7, 8, 9, 10]"
      ]
     },
     "execution_count": 150,
     "metadata": {},
     "output_type": "execute_result"
    }
   ],
   "source": [
    "list1"
   ]
  },
  {
   "cell_type": "code",
   "execution_count": 151,
   "id": "ccd2344b-47c3-4702-adee-5963491cc4c7",
   "metadata": {},
   "outputs": [],
   "source": [
    "list2 = [item for item in range(1,11)]"
   ]
  },
  {
   "cell_type": "code",
   "execution_count": 152,
   "id": "e11bf552-e200-47c7-8c65-74533972abd1",
   "metadata": {},
   "outputs": [
    {
     "data": {
      "text/plain": [
       "[1, 2, 3, 4, 5, 6, 7, 8, 9, 10]"
      ]
     },
     "execution_count": 152,
     "metadata": {},
     "output_type": "execute_result"
    }
   ],
   "source": [
    "list2"
   ]
  },
  {
   "cell_type": "code",
   "execution_count": 153,
   "id": "5cbec324-5b3c-44d2-b670-cec5e77e655a",
   "metadata": {},
   "outputs": [],
   "source": [
    "list3 = [item ** 3 for item in range(1, 11)]"
   ]
  },
  {
   "cell_type": "code",
   "execution_count": 154,
   "id": "83c58f1e-1fb8-42f8-9bac-b225c7bf4a2a",
   "metadata": {},
   "outputs": [
    {
     "data": {
      "text/plain": [
       "[1, 8, 27, 64, 125, 216, 343, 512, 729, 1000]"
      ]
     },
     "execution_count": 154,
     "metadata": {},
     "output_type": "execute_result"
    }
   ],
   "source": [
    "list3"
   ]
  },
  {
   "cell_type": "code",
   "execution_count": 155,
   "id": "5f8a1052-7799-4c35-8ac0-128a4440277d",
   "metadata": {},
   "outputs": [],
   "source": [
    "list4 = [item for item in range(1, 21) if item % 2 == 0]"
   ]
  },
  {
   "cell_type": "code",
   "execution_count": 156,
   "id": "edb98916-7075-49e4-83c9-fc71363cdb21",
   "metadata": {},
   "outputs": [
    {
     "data": {
      "text/plain": [
       "[2, 4, 6, 8, 10, 12, 14, 16, 18, 20]"
      ]
     },
     "execution_count": 156,
     "metadata": {},
     "output_type": "execute_result"
    }
   ],
   "source": [
    "list4"
   ]
  },
  {
   "cell_type": "code",
   "execution_count": 157,
   "id": "f2f4c5c3-8e51-42d8-9236-553f961de633",
   "metadata": {},
   "outputs": [],
   "source": [
    "colors = ['red', 'orange', 'yellow', 'green', 'blue', 'pink', 'purple']"
   ]
  },
  {
   "cell_type": "code",
   "execution_count": 158,
   "id": "5eca0d41-e82c-4268-a9d2-2c0e758a04ed",
   "metadata": {},
   "outputs": [],
   "source": [
    "colors2 = [item.upper() for item in colors]"
   ]
  },
  {
   "cell_type": "code",
   "execution_count": 159,
   "id": "aff5cedb-d7c4-4538-a2b1-0b68dbc5ea6b",
   "metadata": {},
   "outputs": [
    {
     "data": {
      "text/plain": [
       "['RED', 'ORANGE', 'YELLOW', 'GREEN', 'BLUE', 'PINK', 'PURPLE']"
      ]
     },
     "execution_count": 159,
     "metadata": {},
     "output_type": "execute_result"
    }
   ],
   "source": [
    "colors2"
   ]
  },
  {
   "cell_type": "code",
   "execution_count": 160,
   "id": "9ac68115-3908-44c2-ae45-f6dee7d0b463",
   "metadata": {},
   "outputs": [
    {
     "data": {
      "text/plain": [
       "['red', 'orange', 'yellow', 'green', 'blue', 'pink', 'purple']"
      ]
     },
     "execution_count": 160,
     "metadata": {},
     "output_type": "execute_result"
    }
   ],
   "source": [
    "colors"
   ]
  },
  {
   "cell_type": "markdown",
   "id": "556684d5-e5db-4143-a41d-cd8f2f7e4202",
   "metadata": {},
   "source": [
    "Self Check 5.12  1.  for  2.  if  3.  see code below  4.  see code below"
   ]
  },
  {
   "cell_type": "code",
   "execution_count": 161,
   "id": "16b200a2-9464-4042-a39e-af37cb500459",
   "metadata": {},
   "outputs": [],
   "source": [
    "cubes = [(x, x ** 3) for x in range (1,6)]"
   ]
  },
  {
   "cell_type": "code",
   "execution_count": 162,
   "id": "078e691e-1277-4344-a8ee-b4136e7a7c68",
   "metadata": {},
   "outputs": [
    {
     "data": {
      "text/plain": [
       "[(1, 1), (2, 8), (3, 27), (4, 64), (5, 125)]"
      ]
     },
     "execution_count": 162,
     "metadata": {},
     "output_type": "execute_result"
    }
   ],
   "source": [
    "cubes"
   ]
  },
  {
   "cell_type": "code",
   "execution_count": 163,
   "id": "4162c78d-fed7-455a-96dd-abfb0a290f05",
   "metadata": {},
   "outputs": [],
   "source": [
    "multiples = [x for x in range(3, 30, 3)]"
   ]
  },
  {
   "cell_type": "code",
   "execution_count": 164,
   "id": "2a3088f3-bed3-48a3-8050-591084ecbc15",
   "metadata": {},
   "outputs": [
    {
     "data": {
      "text/plain": [
       "[3, 6, 9, 12, 15, 18, 21, 24, 27]"
      ]
     },
     "execution_count": 164,
     "metadata": {},
     "output_type": "execute_result"
    }
   ],
   "source": [
    "multiples"
   ]
  },
  {
   "cell_type": "markdown",
   "id": "98a5d6e8-2488-4e20-a5e1-a99a81e5584b",
   "metadata": {},
   "source": [
    "34.  Skim 5.13.   Done. "
   ]
  },
  {
   "cell_type": "markdown",
   "id": "b4314807-45a5-4af3-a05c-ce89aec21bad",
   "metadata": {},
   "source": [
    "35.  Work through 5.14 to learn about filter, map, and reduce - these powerful functions are important especially for 'big data' processing. "
   ]
  },
  {
   "cell_type": "code",
   "execution_count": 165,
   "id": "81d4b587-24b9-4bb4-884a-0e972ccbb41e",
   "metadata": {},
   "outputs": [],
   "source": [
    "numbers = [10, 3, 7, 1, 9, 4, 2, 8, 5, 6]"
   ]
  },
  {
   "cell_type": "code",
   "execution_count": 166,
   "id": "5c9b190d-7fe8-4565-8de7-59df1aa2ecdb",
   "metadata": {},
   "outputs": [],
   "source": [
    "def is_odd(x):\n",
    "    return x % 2 != 0"
   ]
  },
  {
   "cell_type": "code",
   "execution_count": 167,
   "id": "3736bd89-7099-4a1d-9671-73ff07ed0d4b",
   "metadata": {},
   "outputs": [
    {
     "data": {
      "text/plain": [
       "[3, 7, 1, 9, 5]"
      ]
     },
     "execution_count": 167,
     "metadata": {},
     "output_type": "execute_result"
    }
   ],
   "source": [
    "list(filter(is_odd, numbers))"
   ]
  },
  {
   "cell_type": "code",
   "execution_count": 168,
   "id": "1ddf2f75-9b78-4dd2-9bfb-f70feb146769",
   "metadata": {},
   "outputs": [
    {
     "data": {
      "text/plain": [
       "[3, 7, 1, 9, 5]"
      ]
     },
     "execution_count": 168,
     "metadata": {},
     "output_type": "execute_result"
    }
   ],
   "source": [
    "[item for item in numbers if is_odd(item)]"
   ]
  },
  {
   "cell_type": "markdown",
   "id": "df0049b7-6813-435c-bf8e-cb3d2c875129",
   "metadata": {},
   "source": [
    "36.  You'll read about lambda functions - these are just functions that we don't bother to name - we just define the arguments needed and the processing logic where ever they are needed. Again, this is widely used in big data. If this is of interest to you, execute these examples as well. "
   ]
  },
  {
   "cell_type": "code",
   "execution_count": 169,
   "id": "dae28641-2eb8-484b-979a-1be485bd72d9",
   "metadata": {},
   "outputs": [
    {
     "data": {
      "text/plain": [
       "[3, 7, 1, 9, 5]"
      ]
     },
     "execution_count": 169,
     "metadata": {},
     "output_type": "execute_result"
    }
   ],
   "source": [
    "list(filter(lambda x: x % 2 !=0, numbers))"
   ]
  },
  {
   "cell_type": "code",
   "execution_count": 170,
   "id": "46998c00-2d70-4d60-ab05-169dc2d2bae7",
   "metadata": {},
   "outputs": [
    {
     "data": {
      "text/plain": [
       "[10, 3, 7, 1, 9, 4, 2, 8, 5, 6]"
      ]
     },
     "execution_count": 170,
     "metadata": {},
     "output_type": "execute_result"
    }
   ],
   "source": [
    "numbers"
   ]
  },
  {
   "cell_type": "code",
   "execution_count": 171,
   "id": "7f72c072-fa47-4cff-8b71-3abd409fd3cb",
   "metadata": {},
   "outputs": [
    {
     "data": {
      "text/plain": [
       "[100, 9, 49, 1, 81, 16, 4, 64, 25, 36]"
      ]
     },
     "execution_count": 171,
     "metadata": {},
     "output_type": "execute_result"
    }
   ],
   "source": [
    "list(map(lambda x: x ** 2, numbers))"
   ]
  },
  {
   "cell_type": "code",
   "execution_count": 172,
   "id": "9d01594f-7367-4e67-8459-c52f69392e92",
   "metadata": {},
   "outputs": [
    {
     "data": {
      "text/plain": [
       "[100, 9, 49, 1, 81, 16, 4, 64, 25, 36]"
      ]
     },
     "execution_count": 172,
     "metadata": {},
     "output_type": "execute_result"
    }
   ],
   "source": [
    "[item ** 2 for item in numbers]"
   ]
  },
  {
   "cell_type": "code",
   "execution_count": 173,
   "id": "e00276e3-0ac1-4a40-afe0-3b6dc73632b9",
   "metadata": {},
   "outputs": [
    {
     "data": {
      "text/plain": [
       "[9, 49, 1, 81, 25]"
      ]
     },
     "execution_count": 173,
     "metadata": {},
     "output_type": "execute_result"
    }
   ],
   "source": [
    "list(map(lambda x: x ** 2,\n",
    "         filter(lambda x: x % 2 != 0, numbers)))"
   ]
  },
  {
   "cell_type": "code",
   "execution_count": 174,
   "id": "a8d422ea-ead3-4085-ab0a-e6478fe5ceab",
   "metadata": {},
   "outputs": [
    {
     "data": {
      "text/plain": [
       "[9, 49, 1, 81, 25]"
      ]
     },
     "execution_count": 174,
     "metadata": {},
     "output_type": "execute_result"
    }
   ],
   "source": [
    "[x ** 2 for x in numbers if x % 2 != 0]"
   ]
  },
  {
   "cell_type": "markdown",
   "id": "84d7d675-61a1-4ee6-9808-f31729b0b556",
   "metadata": {},
   "source": [
    "37. Skim 5.15 and the associated self checks.  I did this."
   ]
  },
  {
   "cell_type": "markdown",
   "id": "0f5571c1-1482-4a72-a908-40a613f986cb",
   "metadata": {},
   "source": [
    "38.  Work through 5.16 to practice with 2D lists. Do you like spreadsheets?  Each cell in a spreadsheet is referenced by its row and column. We can do this in Python using two-dimensional lists. In Python, we can reference a particular item in a two-dimensional grades array with grades[i][j], where i is the row number and j is the column number. Complete the 5.16 self checks. "
   ]
  },
  {
   "cell_type": "code",
   "execution_count": 175,
   "id": "bd56e7d4-75e1-4d46-8baa-a1af9ad88051",
   "metadata": {},
   "outputs": [],
   "source": [
    "a = [[77, 68, 86, 73], [96, 87, 89, 81], [70, 90, 86, 81]]"
   ]
  },
  {
   "cell_type": "code",
   "execution_count": 176,
   "id": "f45d072f-3d85-4d22-a8ce-b689fcec7614",
   "metadata": {},
   "outputs": [
    {
     "name": "stdout",
     "output_type": "stream",
     "text": [
      "77 68 86 73 \n",
      "96 87 89 81 \n",
      "70 90 86 81 \n"
     ]
    }
   ],
   "source": [
    "for row in a:\n",
    "    for item in row:\n",
    "        print(item, end=' ')\n",
    "    print()"
   ]
  },
  {
   "cell_type": "code",
   "execution_count": 177,
   "id": "478cd957-da32-4364-8e1a-2cac9f62e30a",
   "metadata": {},
   "outputs": [
    {
     "name": "stdout",
     "output_type": "stream",
     "text": [
      "a[0][0]=77  a[0][1]=68  a[0][2]=86  a[0][3]=73  a[1][0]=96  a[1][1]=87  a[1][2]=89  a[1][3]=81  a[2][0]=70  a[2][1]=90  a[2][2]=86  a[2][3]=81  "
     ]
    }
   ],
   "source": [
    "for i, row in enumerate(a):\n",
    "    for j, item in enumerate(row):\n",
    "        print(f'a[{i}][{j}]={item} ', end=' ')"
   ]
  },
  {
   "cell_type": "markdown",
   "id": "598a3d07-89c1-4d5a-8507-ec205e685872",
   "metadata": {},
   "source": [
    "Self Check 5.16.  1.  Row, Column  2.  see markdown code below"
   ]
  },
  {
   "cell_type": "markdown",
   "id": "b46fcfe8-0faf-42ac-91dc-d79f140ebfbb",
   "metadata": {},
   "source": [
    "for row in range(len(sales)):\n",
    "    for col in range(len(sales[row])):\n",
    "        sales[row][col] = 0"
   ]
  },
  {
   "cell_type": "markdown",
   "id": "1dc3b0a9-0333-4c35-a417-c6f9cf2da45c",
   "metadata": {},
   "source": [
    "Self Check 5.16 Continued.  a. 2, b. 3, c. 6, d. t[1][0], t[1][1], t[1][2]  e.  t[0][2], t[1][2]  f.  t[0][1] = 10\n",
    "         g.  for row in range(len(t)):\n",
    "                 for column in range(len(t[row])):\n",
    "                     t[row][column] = row + column\n",
    " \n",
    "4.  See Code Below"
   ]
  },
  {
   "cell_type": "code",
   "execution_count": 178,
   "id": "daecccc2-b0af-4fea-90ef-12f1274c076b",
   "metadata": {},
   "outputs": [],
   "source": [
    "t = [[10, 7, 3], [20, 4, 17]]"
   ]
  },
  {
   "cell_type": "code",
   "execution_count": 179,
   "id": "403c509f-e19e-442d-81ce-b159db28fcb7",
   "metadata": {},
   "outputs": [],
   "source": [
    "total = 0"
   ]
  },
  {
   "cell_type": "code",
   "execution_count": 180,
   "id": "187a025e-6684-4fb4-a2f4-5955ef6c4d1d",
   "metadata": {},
   "outputs": [],
   "source": [
    "items = 0"
   ]
  },
  {
   "cell_type": "code",
   "execution_count": 181,
   "id": "c1eac9be-ec7f-402c-a33e-b0d45135436f",
   "metadata": {},
   "outputs": [],
   "source": [
    "for row in t:\n",
    "    for item in row:\n",
    "        total += item\n",
    "        items += 1"
   ]
  },
  {
   "cell_type": "code",
   "execution_count": 182,
   "id": "37415218-ea77-4ed3-a92f-b423ab9ef7d9",
   "metadata": {},
   "outputs": [
    {
     "data": {
      "text/plain": [
       "10.166666666666666"
      ]
     },
     "execution_count": 182,
     "metadata": {},
     "output_type": "execute_result"
    }
   ],
   "source": [
    "total / items"
   ]
  },
  {
   "cell_type": "code",
   "execution_count": 183,
   "id": "16ed8bed-265f-4fe6-b6d3-487561ecd9e1",
   "metadata": {},
   "outputs": [],
   "source": [
    "total = 0"
   ]
  },
  {
   "cell_type": "code",
   "execution_count": 184,
   "id": "39843140-e974-497e-a790-bbf5ef38e398",
   "metadata": {},
   "outputs": [],
   "source": [
    "items = 0"
   ]
  },
  {
   "cell_type": "code",
   "execution_count": 185,
   "id": "36604039-20fc-4e59-949d-72d03abf35c6",
   "metadata": {},
   "outputs": [],
   "source": [
    "for row in t:\n",
    "    total += sum(row)\n",
    "    items += len(row)"
   ]
  },
  {
   "cell_type": "code",
   "execution_count": 186,
   "id": "33bc2dd5-7eac-4ec3-bf13-d138d763405b",
   "metadata": {},
   "outputs": [
    {
     "data": {
      "text/plain": [
       "10.166666666666666"
      ]
     },
     "execution_count": 186,
     "metadata": {},
     "output_type": "execute_result"
    }
   ],
   "source": [
    "total / items"
   ]
  },
  {
   "cell_type": "markdown",
   "id": "0e92e5c6-1e56-4e97-999d-e2c78c3be2ba",
   "metadata": {},
   "source": [
    "39.  Take Screenshot - Sequences (Lists and Tuples) at the end of your session.  Done.  Will attach on submission."
   ]
  },
  {
   "cell_type": "markdown",
   "id": "c15dc858-c78d-424a-995f-a7c3b592a1c2",
   "metadata": {},
   "source": [
    "Project - Part 2 (from Ch 6 above)"
   ]
  },
  {
   "cell_type": "markdown",
   "id": "550f3c9f-e724-4c99-8ad2-06c065e05bd9",
   "metadata": {},
   "source": [
    "1.  Dictionaries and sets are also critical. Rather than write out all the instructions, carefully read and execute all the examples in Chapter 6.  Will do below."
   ]
  },
  {
   "cell_type": "markdown",
   "id": "ad30a376-4175-48bc-8679-afe25489a4b7",
   "metadata": {},
   "source": [
    "2.  Be able to create dictionaries (key-value pairs), get the len(), use clear(), and check if a dictionary is empty. "
   ]
  },
  {
   "cell_type": "code",
   "execution_count": 187,
   "id": "2aa1895e-67d4-4e69-917d-eaa0c781fe06",
   "metadata": {},
   "outputs": [],
   "source": [
    "country_codes = {'Finland': 'fi', 'South Africa': 'za', 'Nepal': 'np', 'United States': 'us'}"
   ]
  },
  {
   "cell_type": "code",
   "execution_count": 188,
   "id": "3fad77b0-cfac-4350-abff-d6b01017c843",
   "metadata": {},
   "outputs": [
    {
     "data": {
      "text/plain": [
       "{'Finland': 'fi', 'South Africa': 'za', 'Nepal': 'np', 'United States': 'us'}"
      ]
     },
     "execution_count": 188,
     "metadata": {},
     "output_type": "execute_result"
    }
   ],
   "source": [
    "country_codes"
   ]
  },
  {
   "cell_type": "code",
   "execution_count": 189,
   "id": "03c2d26f-861d-49a5-922d-e74bfeb0ec70",
   "metadata": {},
   "outputs": [
    {
     "data": {
      "text/plain": [
       "4"
      ]
     },
     "execution_count": 189,
     "metadata": {},
     "output_type": "execute_result"
    }
   ],
   "source": [
    "len(country_codes)"
   ]
  },
  {
   "cell_type": "code",
   "execution_count": 190,
   "id": "b51f30e0-edc4-431f-9014-d2168e2f1507",
   "metadata": {},
   "outputs": [
    {
     "name": "stdout",
     "output_type": "stream",
     "text": [
      "country_codes is not empty\n"
     ]
    }
   ],
   "source": [
    "if country_codes:\n",
    "    print('country_codes is not empty')\n",
    "else:\n",
    "    print('country_codes is empty')"
   ]
  },
  {
   "cell_type": "code",
   "execution_count": 191,
   "id": "8dd08b73-e700-4552-b0a9-78748b905d0b",
   "metadata": {},
   "outputs": [],
   "source": [
    "country_codes.clear()"
   ]
  },
  {
   "cell_type": "code",
   "execution_count": 192,
   "id": "0f34e1bd-31ae-4ebf-b895-9af5d4b57b3a",
   "metadata": {},
   "outputs": [
    {
     "name": "stdout",
     "output_type": "stream",
     "text": [
      "country_codes is empty\n"
     ]
    }
   ],
   "source": [
    "if country_codes:\n",
    "    print('country_codes is not empty')\n",
    "else:\n",
    "    print('country_codes is empty')"
   ]
  },
  {
   "cell_type": "markdown",
   "id": "e40eea80-b239-41e9-a4e7-c1aa8e032808",
   "metadata": {},
   "source": [
    "3.  Be able to iterate through a dictionary. Practice the instructions in 6.2.2."
   ]
  },
  {
   "cell_type": "code",
   "execution_count": 193,
   "id": "c8bd591d-f758-4f35-833f-b7e7ee2cbb7d",
   "metadata": {},
   "outputs": [],
   "source": [
    "days_per_month = {'January': 31, 'February': 28, 'March': 31, 'April': 30}"
   ]
  },
  {
   "cell_type": "code",
   "execution_count": 194,
   "id": "4a8b6067-ae89-4711-9846-26baceee07f9",
   "metadata": {},
   "outputs": [
    {
     "data": {
      "text/plain": [
       "{'January': 31, 'February': 28, 'March': 31, 'April': 30}"
      ]
     },
     "execution_count": 194,
     "metadata": {},
     "output_type": "execute_result"
    }
   ],
   "source": [
    "days_per_month"
   ]
  },
  {
   "cell_type": "code",
   "execution_count": 195,
   "id": "faa14f3c-3cbd-44cc-ac37-fba3e4f8b6e8",
   "metadata": {},
   "outputs": [
    {
     "name": "stdout",
     "output_type": "stream",
     "text": [
      "January has 31 days\n",
      "February has 28 days\n",
      "March has 31 days\n",
      "April has 30 days\n"
     ]
    }
   ],
   "source": [
    "for month, days in days_per_month.items():\n",
    "    print(f'{month} has {days} days')"
   ]
  },
  {
   "cell_type": "markdown",
   "id": "891ea9a1-e793-4918-bd87-382cc4a622fe",
   "metadata": {},
   "source": [
    "4.  Practice the operations in 6.2.3 and use keys and values as shown in 6.2.4. Compare dictionaries as shown in 6.2.5."
   ]
  },
  {
   "cell_type": "code",
   "execution_count": 196,
   "id": "f19f7ec5-2abe-45a1-be39-cdb4eb0102d3",
   "metadata": {},
   "outputs": [],
   "source": [
    "roman_numerals = {'I': 1, 'II': 2, 'III': 3, 'V': 5, 'X': 100, 'D': 500}"
   ]
  },
  {
   "cell_type": "code",
   "execution_count": 197,
   "id": "ca91e3b1-8f8b-4cc5-8610-d5105fc3fdf0",
   "metadata": {},
   "outputs": [
    {
     "data": {
      "text/plain": [
       "{'I': 1, 'II': 2, 'III': 3, 'V': 5, 'X': 100, 'D': 500}"
      ]
     },
     "execution_count": 197,
     "metadata": {},
     "output_type": "execute_result"
    }
   ],
   "source": [
    "roman_numerals"
   ]
  },
  {
   "cell_type": "code",
   "execution_count": 198,
   "id": "9c9638ee-5ad1-4470-abd0-429099ea38b4",
   "metadata": {},
   "outputs": [
    {
     "data": {
      "text/plain": [
       "5"
      ]
     },
     "execution_count": 198,
     "metadata": {},
     "output_type": "execute_result"
    }
   ],
   "source": [
    "roman_numerals['V']"
   ]
  },
  {
   "cell_type": "code",
   "execution_count": 199,
   "id": "ba580728-5264-449b-aa14-aff3440515b0",
   "metadata": {},
   "outputs": [],
   "source": [
    "roman_numerals['X'] = 10"
   ]
  },
  {
   "cell_type": "code",
   "execution_count": 200,
   "id": "b58a8a9a-7a4a-40cb-9d77-c177ee856723",
   "metadata": {},
   "outputs": [
    {
     "data": {
      "text/plain": [
       "{'I': 1, 'II': 2, 'III': 3, 'V': 5, 'X': 10, 'D': 500}"
      ]
     },
     "execution_count": 200,
     "metadata": {},
     "output_type": "execute_result"
    }
   ],
   "source": [
    "roman_numerals"
   ]
  },
  {
   "cell_type": "code",
   "execution_count": 201,
   "id": "a1db3915-ccb0-46b7-b24f-609c60878b0c",
   "metadata": {},
   "outputs": [],
   "source": [
    "roman_numerals['L'] = 50"
   ]
  },
  {
   "cell_type": "code",
   "execution_count": 202,
   "id": "04130201-2330-430c-b5ad-34b6199854c1",
   "metadata": {},
   "outputs": [
    {
     "data": {
      "text/plain": [
       "{'I': 1, 'II': 2, 'III': 3, 'V': 5, 'X': 10, 'D': 500, 'L': 50}"
      ]
     },
     "execution_count": 202,
     "metadata": {},
     "output_type": "execute_result"
    }
   ],
   "source": [
    "roman_numerals"
   ]
  },
  {
   "cell_type": "code",
   "execution_count": 203,
   "id": "98ba8b1a-4a87-4d01-8e44-d8a641d24c20",
   "metadata": {},
   "outputs": [],
   "source": [
    "del roman_numerals['III']"
   ]
  },
  {
   "cell_type": "code",
   "execution_count": 204,
   "id": "4ecb5f22-c62a-4c2b-b4f3-24c521e745d8",
   "metadata": {},
   "outputs": [
    {
     "data": {
      "text/plain": [
       "{'I': 1, 'II': 2, 'V': 5, 'X': 10, 'D': 500, 'L': 50}"
      ]
     },
     "execution_count": 204,
     "metadata": {},
     "output_type": "execute_result"
    }
   ],
   "source": [
    "roman_numerals"
   ]
  },
  {
   "cell_type": "code",
   "execution_count": 205,
   "id": "e57b8a78-42e0-4ed5-9915-b08833b29479",
   "metadata": {},
   "outputs": [
    {
     "data": {
      "text/plain": [
       "10"
      ]
     },
     "execution_count": 205,
     "metadata": {},
     "output_type": "execute_result"
    }
   ],
   "source": [
    "roman_numerals.pop('X')"
   ]
  },
  {
   "cell_type": "code",
   "execution_count": 206,
   "id": "7320fd95-2eef-440c-934b-00a701bc9ae0",
   "metadata": {},
   "outputs": [
    {
     "data": {
      "text/plain": [
       "{'I': 1, 'II': 2, 'V': 5, 'D': 500, 'L': 50}"
      ]
     },
     "execution_count": 206,
     "metadata": {},
     "output_type": "execute_result"
    }
   ],
   "source": [
    "roman_numerals"
   ]
  },
  {
   "cell_type": "markdown",
   "id": "aab3e788-d5fe-4be3-bb50-88364cbe9eb9",
   "metadata": {},
   "source": [
    "roman_numerals['III']   (marked this down to avoid error when entire notebook is run)"
   ]
  },
  {
   "cell_type": "code",
   "execution_count": 207,
   "id": "a01c10f9-0a78-483c-9182-07a25112d3e1",
   "metadata": {},
   "outputs": [],
   "source": [
    "roman_numerals.get('III')"
   ]
  },
  {
   "cell_type": "code",
   "execution_count": 208,
   "id": "5f27a9e1-d097-4a0b-8426-d11085775acf",
   "metadata": {},
   "outputs": [
    {
     "data": {
      "text/plain": [
       "'III not in dictionary'"
      ]
     },
     "execution_count": 208,
     "metadata": {},
     "output_type": "execute_result"
    }
   ],
   "source": [
    "roman_numerals.get('III', 'III not in dictionary')"
   ]
  },
  {
   "cell_type": "code",
   "execution_count": 209,
   "id": "c8e8f94b-7a1b-43d5-bbd3-3f6e0721b1d0",
   "metadata": {},
   "outputs": [
    {
     "data": {
      "text/plain": [
       "5"
      ]
     },
     "execution_count": 209,
     "metadata": {},
     "output_type": "execute_result"
    }
   ],
   "source": [
    "roman_numerals.get('V')"
   ]
  },
  {
   "cell_type": "code",
   "execution_count": 210,
   "id": "c94918d9-4e47-475b-8e0d-58033c856b17",
   "metadata": {},
   "outputs": [
    {
     "data": {
      "text/plain": [
       "True"
      ]
     },
     "execution_count": 210,
     "metadata": {},
     "output_type": "execute_result"
    }
   ],
   "source": [
    "'V' in roman_numerals"
   ]
  },
  {
   "cell_type": "code",
   "execution_count": 211,
   "id": "6a9611d3-2314-4ac7-9790-b6b1cb357eab",
   "metadata": {},
   "outputs": [
    {
     "data": {
      "text/plain": [
       "False"
      ]
     },
     "execution_count": 211,
     "metadata": {},
     "output_type": "execute_result"
    }
   ],
   "source": [
    "'III' in roman_numerals"
   ]
  },
  {
   "cell_type": "code",
   "execution_count": 212,
   "id": "3cc16c5c-b9df-4d54-9c24-755e331ebce8",
   "metadata": {},
   "outputs": [
    {
     "data": {
      "text/plain": [
       "True"
      ]
     },
     "execution_count": 212,
     "metadata": {},
     "output_type": "execute_result"
    }
   ],
   "source": [
    "'III' not in roman_numerals"
   ]
  },
  {
   "cell_type": "code",
   "execution_count": 213,
   "id": "0db1b0f8-ca97-4cbf-94d3-a91b599da552",
   "metadata": {},
   "outputs": [],
   "source": [
    "months = {'January': 1, 'February': 2, 'March': 3}"
   ]
  },
  {
   "cell_type": "code",
   "execution_count": 214,
   "id": "5ccce598-4d8e-43af-af49-0afd46d9b8b4",
   "metadata": {},
   "outputs": [
    {
     "name": "stdout",
     "output_type": "stream",
     "text": [
      "January February March "
     ]
    }
   ],
   "source": [
    "for month_name in months.keys():\n",
    "    print(month_name, end=' ')"
   ]
  },
  {
   "cell_type": "code",
   "execution_count": 215,
   "id": "a6a5472b-7584-4911-b60a-afefb31b7dfc",
   "metadata": {},
   "outputs": [
    {
     "name": "stdout",
     "output_type": "stream",
     "text": [
      "1 2 3 "
     ]
    }
   ],
   "source": [
    "for month_number in months.values():\n",
    "    print(month_number, end=' ')"
   ]
  },
  {
   "cell_type": "code",
   "execution_count": 216,
   "id": "0b736a60-0913-4a6b-97eb-a63c05fc7905",
   "metadata": {},
   "outputs": [],
   "source": [
    "months_view = months.keys()"
   ]
  },
  {
   "cell_type": "code",
   "execution_count": 217,
   "id": "8ff20b78-be23-48ff-8b18-48baf8b6893f",
   "metadata": {},
   "outputs": [
    {
     "name": "stdout",
     "output_type": "stream",
     "text": [
      "January February March "
     ]
    }
   ],
   "source": [
    "for key in months_view:\n",
    "    print(key, end=' ')"
   ]
  },
  {
   "cell_type": "code",
   "execution_count": 218,
   "id": "5c7d9259-bb3d-4c31-b9da-70b98d5c0f5d",
   "metadata": {},
   "outputs": [],
   "source": [
    "months['December'] = 12"
   ]
  },
  {
   "cell_type": "code",
   "execution_count": 219,
   "id": "b736b42a-f7e6-4b6a-9738-07a34510a5d6",
   "metadata": {},
   "outputs": [
    {
     "data": {
      "text/plain": [
       "{'January': 1, 'February': 2, 'March': 3, 'December': 12}"
      ]
     },
     "execution_count": 219,
     "metadata": {},
     "output_type": "execute_result"
    }
   ],
   "source": [
    "months"
   ]
  },
  {
   "cell_type": "code",
   "execution_count": 220,
   "id": "02f9cb0c-9273-4bf9-8238-3549b92cf6b5",
   "metadata": {},
   "outputs": [
    {
     "data": {
      "text/plain": [
       "['January', 'February', 'March', 'December']"
      ]
     },
     "execution_count": 220,
     "metadata": {},
     "output_type": "execute_result"
    }
   ],
   "source": [
    "list(months.keys())"
   ]
  },
  {
   "cell_type": "code",
   "execution_count": 221,
   "id": "59c72e9b-82e7-4c2c-ba7c-bac3358b02b8",
   "metadata": {},
   "outputs": [
    {
     "data": {
      "text/plain": [
       "[1, 2, 3, 12]"
      ]
     },
     "execution_count": 221,
     "metadata": {},
     "output_type": "execute_result"
    }
   ],
   "source": [
    "list(months.values())"
   ]
  },
  {
   "cell_type": "code",
   "execution_count": 222,
   "id": "b71d9136-028c-4d0b-8539-7947a2018ede",
   "metadata": {},
   "outputs": [
    {
     "data": {
      "text/plain": [
       "[('January', 1), ('February', 2), ('March', 3), ('December', 12)]"
      ]
     },
     "execution_count": 222,
     "metadata": {},
     "output_type": "execute_result"
    }
   ],
   "source": [
    "list(months.items())"
   ]
  },
  {
   "cell_type": "code",
   "execution_count": 223,
   "id": "71d61efc-f3c3-45ab-b846-e85cdaf2b583",
   "metadata": {},
   "outputs": [
    {
     "name": "stdout",
     "output_type": "stream",
     "text": [
      "December February January March "
     ]
    }
   ],
   "source": [
    "for month_name in sorted(months.keys()):\n",
    "    print(month_name, end=' ')"
   ]
  },
  {
   "cell_type": "code",
   "execution_count": 224,
   "id": "99b9809e-df36-4bbb-8a62-76ad7a7aa69b",
   "metadata": {},
   "outputs": [],
   "source": [
    "country_capitals1 = {'Belgium': 'Brussels', 'Haiti': 'Port-au-Prince'}"
   ]
  },
  {
   "cell_type": "code",
   "execution_count": 225,
   "id": "67f585ea-ad23-4ceb-9b76-87ad414ab5de",
   "metadata": {},
   "outputs": [],
   "source": [
    "country_capitals2 = {'Nepal': 'Kathmandu', 'Uruguay': 'Montevideo'}"
   ]
  },
  {
   "cell_type": "code",
   "execution_count": 226,
   "id": "4550ff3d-98cc-47e3-aa72-5d0d8008a623",
   "metadata": {},
   "outputs": [],
   "source": [
    "country_capitals3 = {'Haiti': 'Port-au-Prince', 'Belgium': 'Brussels'}"
   ]
  },
  {
   "cell_type": "code",
   "execution_count": 227,
   "id": "044360af-c523-4fcd-81ce-18fc52bed624",
   "metadata": {},
   "outputs": [
    {
     "data": {
      "text/plain": [
       "False"
      ]
     },
     "execution_count": 227,
     "metadata": {},
     "output_type": "execute_result"
    }
   ],
   "source": [
    "country_capitals1 == country_capitals2"
   ]
  },
  {
   "cell_type": "code",
   "execution_count": 228,
   "id": "477e4b00-4032-4afc-bf5d-200c73bfa2d3",
   "metadata": {},
   "outputs": [
    {
     "data": {
      "text/plain": [
       "True"
      ]
     },
     "execution_count": 228,
     "metadata": {},
     "output_type": "execute_result"
    }
   ],
   "source": [
    "country_capitals1 == country_capitals3"
   ]
  },
  {
   "cell_type": "code",
   "execution_count": 229,
   "id": "b1024c3c-8f7c-403e-b1f1-b085263439aa",
   "metadata": {},
   "outputs": [
    {
     "data": {
      "text/plain": [
       "True"
      ]
     },
     "execution_count": 229,
     "metadata": {},
     "output_type": "execute_result"
    }
   ],
   "source": [
    "country_capitals1 != country_capitals2"
   ]
  },
  {
   "cell_type": "markdown",
   "id": "ed2bc735-7480-4b9e-a225-43b65d667dc0",
   "metadata": {},
   "source": [
    "5.  Example 6.2.7 shows a common task in big data - what are the most common words appearing in a set of text. "
   ]
  },
  {
   "cell_type": "markdown",
   "id": "ea4ab0f6-743a-4f16-ac18-eee0c6852d4c",
   "metadata": {},
   "source": [
    "The most common words appearing in the set of text in the example are is, sample, text, this, with, and words."
   ]
  },
  {
   "cell_type": "code",
   "execution_count": 230,
   "id": "d8b2e695-d027-4322-9540-c3a16efa0af7",
   "metadata": {},
   "outputs": [],
   "source": [
    "text = ('this is sample text with several words '\n",
    "        'this is more sample text with some different words')"
   ]
  },
  {
   "cell_type": "code",
   "execution_count": 231,
   "id": "8821037e-c668-4f51-851f-3d9febafe5a6",
   "metadata": {},
   "outputs": [],
   "source": [
    "word_counts = {}"
   ]
  },
  {
   "cell_type": "code",
   "execution_count": 232,
   "id": "28c9835b-377a-40ad-9750-d80a9bb98844",
   "metadata": {},
   "outputs": [
    {
     "name": "stdout",
     "output_type": "stream",
     "text": [
      "WORD        COUNT\n",
      "different   1\n",
      "is          2\n",
      "more        1\n",
      "sample      2\n",
      "several     1\n",
      "some        1\n",
      "text        2\n",
      "this        2\n",
      "with        2\n",
      "words       2\n",
      "\n",
      "Number of unique words: 10\n"
     ]
    }
   ],
   "source": [
    "for word in text.split():\n",
    "\n",
    "    if word in word_counts:\n",
    "        word_counts[word] += 1\n",
    "    else:\n",
    "        word_counts[word] = 1\n",
    "\n",
    "print(f'{\"WORD\":<12}COUNT')\n",
    "\n",
    "for word, count in sorted(word_counts.items()):\n",
    "    print(f'{word:<12}{count}')\n",
    "    \n",
    "print('\\nNumber of unique words:', len(word_counts))\n",
    "    "
   ]
  },
  {
   "cell_type": "markdown",
   "id": "c2ca4821-2778-42a6-a5e5-f272a973ee3f",
   "metadata": {},
   "source": [
    "6.  Create and execute the example from 6.2.7 to perform word count using Python dictionaries. "
   ]
  },
  {
   "cell_type": "code",
   "execution_count": 233,
   "id": "b35a5caa-8dca-4118-b7fb-1a9bc088431e",
   "metadata": {},
   "outputs": [
    {
     "name": "stdout",
     "output_type": "stream",
     "text": [
      "different   1\n",
      "is          2\n",
      "more        1\n",
      "sample      2\n",
      "several     1\n",
      "some        1\n",
      "text        2\n",
      "this        2\n",
      "with        2\n",
      "words       2\n"
     ]
    }
   ],
   "source": [
    "from collections import Counter\n",
    "\n",
    "text = ('this is sample text with several words '\n",
    "        'this is more sample text with some different words')\n",
    "\n",
    "counter = Counter(text.split())\n",
    "\n",
    "for word, count in sorted(counter.items()):\n",
    "    print(f'{word:<12}{count}')"
   ]
  },
  {
   "cell_type": "code",
   "execution_count": 234,
   "id": "56b80c25-c698-4794-8210-2181cf8760b6",
   "metadata": {},
   "outputs": [
    {
     "name": "stdout",
     "output_type": "stream",
     "text": [
      "Number of unique keys 10\n"
     ]
    }
   ],
   "source": [
    "print('Number of unique keys', len(counter.keys()))"
   ]
  },
  {
   "cell_type": "markdown",
   "id": "e66619a7-0fea-4f85-9b85-c7873e297085",
   "metadata": {},
   "source": [
    "7.  Modify the text to some other source that has more words than the original example. "
   ]
  },
  {
   "cell_type": "code",
   "execution_count": 235,
   "id": "0c8c789c-f47e-455a-a97e-de8ae1ad997e",
   "metadata": {},
   "outputs": [
    {
     "name": "stdout",
     "output_type": "stream",
     "text": [
      "44608       1\n",
      "But         1\n",
      "It          1\n",
      "Python      2\n",
      "This        1\n",
      "a           1\n",
      "alsovery    1\n",
      "and         2\n",
      "andmake     1\n",
      "areerrors   1\n",
      "arent       1\n",
      "be          1\n",
      "can         2\n",
      "debug       1\n",
      "focuses     1\n",
      "frustrating 1\n",
      "fun         1\n",
      "is          4\n",
      "it          1\n",
      "language    1\n",
      "largely     1\n",
      "learn       1\n",
      "occur       1\n",
      "on          1\n",
      "powerful    1\n",
      "program     1\n",
      "programming 1\n",
      "rewarding   1\n",
      "successfully1\n",
      "sure        1\n",
      "that        1\n",
      "the         1\n",
      "there       1\n",
      "to          1\n",
      "very        1\n",
      "when        2\n",
      "why         1\n",
      "work        1\n",
      "you         2\n"
     ]
    }
   ],
   "source": [
    "from collections import Counter\n",
    "\n",
    "text = ('This 44608 focuses largely on Python '\n",
    "        'Python is a very powerful programming language '\n",
    "        'and is fun to learn  It can be frustrating when there are'\n",
    "        'errors that occur and you arent sure why  But is is also'\n",
    "        'very rewarding when you can successfully debug the program and'\n",
    "        'make it work')\n",
    "\n",
    "counter = Counter(text.split())\n",
    "\n",
    "for word, count in sorted(counter.items()):\n",
    "    print(f'{word:<12}{count}')"
   ]
  },
  {
   "cell_type": "markdown",
   "id": "a85aad40-05b1-43a0-9934-159435364ebd",
   "metadata": {},
   "source": [
    "8.  Execute your modified program and show the results.  See above."
   ]
  },
  {
   "cell_type": "markdown",
   "id": "f47f0ecf-6ca7-41eb-a44a-5efe797e245d",
   "metadata": {},
   "source": [
    "9.  Take Screenshot - Word Count with Dictionaries after executing your modified program.   Done, will place in submission."
   ]
  },
  {
   "cell_type": "markdown",
   "id": "dea801ce-809f-40fb-b958-8c510a11c2b7",
   "metadata": {},
   "source": [
    "Self Check 6.2.7  1.  split  2.  see code below"
   ]
  },
  {
   "cell_type": "markdown",
   "id": "55e35267-c26b-4053-9b72-6721dbf9b982",
   "metadata": {},
   "source": [
    "10.  Finish the rest of 6.2 exercises and self checks."
   ]
  },
  {
   "cell_type": "code",
   "execution_count": 236,
   "id": "5b3faacf-9b06-46ac-8bf5-bf08219cfb8c",
   "metadata": {},
   "outputs": [
    {
     "name": "stdout",
     "output_type": "stream",
     "text": [
      "1   10\n",
      "2   9\n",
      "3   8\n",
      "4   16\n",
      "5   7\n"
     ]
    }
   ],
   "source": [
    "import random\n",
    "\n",
    "numbers = [random.randrange(1, 6) for i in range(50)]\n",
    "\n",
    "from collections import Counter\n",
    "\n",
    "counter = Counter(numbers)\n",
    "\n",
    "for value, count in sorted(counter.items()):\n",
    "    print(f'{value:<4}{count}')"
   ]
  },
  {
   "cell_type": "code",
   "execution_count": 237,
   "id": "27ec985f-7aff-40f2-8838-5e54fe5f8ed1",
   "metadata": {},
   "outputs": [],
   "source": [
    "country_codes = {}"
   ]
  },
  {
   "cell_type": "code",
   "execution_count": 238,
   "id": "b0fdee94-1dc7-4735-8cb3-88bfa988f2f6",
   "metadata": {},
   "outputs": [],
   "source": [
    "country_codes.update({'South Africa': 'za'})"
   ]
  },
  {
   "cell_type": "code",
   "execution_count": 239,
   "id": "736b7a86-7b96-43ef-befe-39de75ef3512",
   "metadata": {},
   "outputs": [
    {
     "data": {
      "text/plain": [
       "{'South Africa': 'za'}"
      ]
     },
     "execution_count": 239,
     "metadata": {},
     "output_type": "execute_result"
    }
   ],
   "source": [
    "country_codes"
   ]
  },
  {
   "cell_type": "code",
   "execution_count": 240,
   "id": "c7ac34b5-70e4-4406-aecd-061a130ae867",
   "metadata": {},
   "outputs": [],
   "source": [
    "country_codes.update(Australia='ar')"
   ]
  },
  {
   "cell_type": "code",
   "execution_count": 241,
   "id": "5d2ad072-86ea-40b4-95e3-06be7de0ff3f",
   "metadata": {},
   "outputs": [
    {
     "data": {
      "text/plain": [
       "{'South Africa': 'za', 'Australia': 'ar'}"
      ]
     },
     "execution_count": 241,
     "metadata": {},
     "output_type": "execute_result"
    }
   ],
   "source": [
    "country_codes"
   ]
  },
  {
   "cell_type": "code",
   "execution_count": 242,
   "id": "bac8ec7d-a565-4849-b3ac-c179e1776b84",
   "metadata": {},
   "outputs": [],
   "source": [
    "country_codes.update(Australia='au')"
   ]
  },
  {
   "cell_type": "code",
   "execution_count": 243,
   "id": "588a085b-77a5-417f-bfae-4d9efa980c65",
   "metadata": {},
   "outputs": [
    {
     "data": {
      "text/plain": [
       "{'South Africa': 'za', 'Australia': 'au'}"
      ]
     },
     "execution_count": 243,
     "metadata": {},
     "output_type": "execute_result"
    }
   ],
   "source": [
    "country_codes"
   ]
  },
  {
   "cell_type": "code",
   "execution_count": 244,
   "id": "2a5951ad-5e3c-4ea7-816c-3ffd34cbd27b",
   "metadata": {},
   "outputs": [],
   "source": [
    "months = {'January': 1, 'February': 2, 'March': 3}"
   ]
  },
  {
   "cell_type": "code",
   "execution_count": 245,
   "id": "ca6cd733-ea59-470e-9c65-804a72527472",
   "metadata": {},
   "outputs": [],
   "source": [
    "months2 = {number: name for name, number in months.items()}"
   ]
  },
  {
   "cell_type": "code",
   "execution_count": 246,
   "id": "840e633a-0ae0-4bd4-8125-bc4d3d62e385",
   "metadata": {},
   "outputs": [
    {
     "data": {
      "text/plain": [
       "{1: 'January', 2: 'February', 3: 'March'}"
      ]
     },
     "execution_count": 246,
     "metadata": {},
     "output_type": "execute_result"
    }
   ],
   "source": [
    "months2"
   ]
  },
  {
   "cell_type": "code",
   "execution_count": 247,
   "id": "1378dd8d-9c4a-4cb8-bb0e-6cc4a6fad80c",
   "metadata": {},
   "outputs": [],
   "source": [
    "grades = {'Sue': [98, 87, 94], 'Bob': [84, 95, 91]}"
   ]
  },
  {
   "cell_type": "code",
   "execution_count": 248,
   "id": "b3849d36-9149-4b33-9262-0107e9e47a81",
   "metadata": {},
   "outputs": [],
   "source": [
    "grades2 = {k: sum(v) / len(v) for k, v in grades.items()}"
   ]
  },
  {
   "cell_type": "code",
   "execution_count": 249,
   "id": "e12e76fb-afa1-4d3d-9d38-99e0404d3bb8",
   "metadata": {},
   "outputs": [
    {
     "data": {
      "text/plain": [
       "{'Sue': 93.0, 'Bob': 90.0}"
      ]
     },
     "execution_count": 249,
     "metadata": {},
     "output_type": "execute_result"
    }
   ],
   "source": [
    "grades2"
   ]
  },
  {
   "cell_type": "markdown",
   "id": "08c43a08-bb35-4a68-8564-2918859c86c0",
   "metadata": {},
   "source": [
    "Self Check 6.2.9 1.  See Code Below."
   ]
  },
  {
   "cell_type": "code",
   "execution_count": 250,
   "id": "23b8834c-4616-4e6d-963c-933822998200",
   "metadata": {},
   "outputs": [
    {
     "data": {
      "text/plain": [
       "{1: 1, 2: 8, 3: 27, 4: 64, 5: 125}"
      ]
     },
     "execution_count": 250,
     "metadata": {},
     "output_type": "execute_result"
    }
   ],
   "source": [
    "{number: number ** 3 for number in range(1, 6)}"
   ]
  },
  {
   "cell_type": "markdown",
   "id": "13531dd4-d7b3-4561-8b90-f8491d8850a6",
   "metadata": {},
   "source": [
    "11.  Section 6.3 Sets should be a bit easier after having worked with the other collections.  That sounds good."
   ]
  },
  {
   "cell_type": "markdown",
   "id": "02475e04-d7c5-4f92-9a02-d6449703406c",
   "metadata": {},
   "source": [
    "12.  Work through Section 6.3 executing tthe examples and doing the self checks."
   ]
  },
  {
   "cell_type": "code",
   "execution_count": 251,
   "id": "97f225b3-da77-4eab-bfe2-34e568fe84b3",
   "metadata": {},
   "outputs": [],
   "source": [
    "colors = {'red', 'orange', 'yellow', 'green', 'red', 'blue'}"
   ]
  },
  {
   "cell_type": "code",
   "execution_count": 252,
   "id": "5d4faa07-67f2-4dfa-a4fd-63fd7525c6e5",
   "metadata": {},
   "outputs": [
    {
     "data": {
      "text/plain": [
       "{'blue', 'green', 'orange', 'red', 'yellow'}"
      ]
     },
     "execution_count": 252,
     "metadata": {},
     "output_type": "execute_result"
    }
   ],
   "source": [
    "colors"
   ]
  },
  {
   "cell_type": "code",
   "execution_count": 253,
   "id": "bff782bb-2501-467e-8b89-3f0e6b494492",
   "metadata": {},
   "outputs": [
    {
     "data": {
      "text/plain": [
       "5"
      ]
     },
     "execution_count": 253,
     "metadata": {},
     "output_type": "execute_result"
    }
   ],
   "source": [
    "len(colors)"
   ]
  },
  {
   "cell_type": "code",
   "execution_count": 254,
   "id": "47f7ba07-52ea-4897-9fb8-6b0b3aeea2a2",
   "metadata": {},
   "outputs": [
    {
     "data": {
      "text/plain": [
       "True"
      ]
     },
     "execution_count": 254,
     "metadata": {},
     "output_type": "execute_result"
    }
   ],
   "source": [
    "'red' in colors"
   ]
  },
  {
   "cell_type": "code",
   "execution_count": 255,
   "id": "8e572c89-1030-4823-a0fe-13c5e40de783",
   "metadata": {},
   "outputs": [
    {
     "data": {
      "text/plain": [
       "False"
      ]
     },
     "execution_count": 255,
     "metadata": {},
     "output_type": "execute_result"
    }
   ],
   "source": [
    "'purple' in colors"
   ]
  },
  {
   "cell_type": "code",
   "execution_count": 256,
   "id": "76c4de89-ee86-4a58-a932-e9e5573c3c8d",
   "metadata": {},
   "outputs": [
    {
     "data": {
      "text/plain": [
       "True"
      ]
     },
     "execution_count": 256,
     "metadata": {},
     "output_type": "execute_result"
    }
   ],
   "source": [
    "'purple' not in colors"
   ]
  },
  {
   "cell_type": "code",
   "execution_count": 257,
   "id": "b5bc9214-6608-4298-90a7-4290edfa37dc",
   "metadata": {},
   "outputs": [
    {
     "name": "stdout",
     "output_type": "stream",
     "text": [
      "RED GREEN YELLOW BLUE ORANGE "
     ]
    }
   ],
   "source": [
    "for color in colors:\n",
    "    print(color.upper(), end=' ')"
   ]
  },
  {
   "cell_type": "code",
   "execution_count": 258,
   "id": "9ba41af7-f29b-4da6-aff8-56f8a55606f1",
   "metadata": {},
   "outputs": [],
   "source": [
    "numbers = list(range(10)) + list(range(5))"
   ]
  },
  {
   "cell_type": "code",
   "execution_count": 259,
   "id": "705c4d9b-756f-4291-8e6e-e786b911f6ef",
   "metadata": {},
   "outputs": [
    {
     "data": {
      "text/plain": [
       "[0, 1, 2, 3, 4, 5, 6, 7, 8, 9, 0, 1, 2, 3, 4]"
      ]
     },
     "execution_count": 259,
     "metadata": {},
     "output_type": "execute_result"
    }
   ],
   "source": [
    "numbers"
   ]
  },
  {
   "cell_type": "code",
   "execution_count": 260,
   "id": "48af61aa-2c59-45be-976b-86245c604d2f",
   "metadata": {},
   "outputs": [
    {
     "data": {
      "text/plain": [
       "{0, 1, 2, 3, 4, 5, 6, 7, 8, 9}"
      ]
     },
     "execution_count": 260,
     "metadata": {},
     "output_type": "execute_result"
    }
   ],
   "source": [
    "set(numbers)"
   ]
  },
  {
   "cell_type": "code",
   "execution_count": 261,
   "id": "5fd0c637-4aac-4e1c-835c-54a33c30310f",
   "metadata": {},
   "outputs": [
    {
     "data": {
      "text/plain": [
       "set()"
      ]
     },
     "execution_count": 261,
     "metadata": {},
     "output_type": "execute_result"
    }
   ],
   "source": [
    "set()"
   ]
  },
  {
   "cell_type": "markdown",
   "id": "2ee754db-4d81-4c4a-bd84-99c212f9f789",
   "metadata": {},
   "source": [
    "Self Check 6.3  1.  False  2.  set  3.  see code below."
   ]
  },
  {
   "cell_type": "code",
   "execution_count": 262,
   "id": "ce462812-979a-4306-aa09-10a37236c6e7",
   "metadata": {},
   "outputs": [],
   "source": [
    "text = 'to be or not to be that is the question'"
   ]
  },
  {
   "cell_type": "code",
   "execution_count": 263,
   "id": "94931f98-3014-427a-a5b2-fe742db8cb12",
   "metadata": {},
   "outputs": [],
   "source": [
    "unique_words = set(text.split())"
   ]
  },
  {
   "cell_type": "code",
   "execution_count": 264,
   "id": "1eab167a-e22f-4528-8029-d7f92b2b0a37",
   "metadata": {},
   "outputs": [
    {
     "name": "stdout",
     "output_type": "stream",
     "text": [
      "be is not or question that the to "
     ]
    }
   ],
   "source": [
    "for word in sorted(unique_words):\n",
    "    print(word, end=' ')"
   ]
  },
  {
   "cell_type": "code",
   "execution_count": 265,
   "id": "4585e7ba-bfa5-479e-871a-fe2312219406",
   "metadata": {},
   "outputs": [
    {
     "data": {
      "text/plain": [
       "True"
      ]
     },
     "execution_count": 265,
     "metadata": {},
     "output_type": "execute_result"
    }
   ],
   "source": [
    "{1, 3, 5} == {3, 5, 1}"
   ]
  },
  {
   "cell_type": "code",
   "execution_count": 266,
   "id": "f7da22a2-de7c-47e3-8fa6-40e39152cffa",
   "metadata": {},
   "outputs": [
    {
     "data": {
      "text/plain": [
       "False"
      ]
     },
     "execution_count": 266,
     "metadata": {},
     "output_type": "execute_result"
    }
   ],
   "source": [
    "{1, 3, 5} != {3, 5, 1}"
   ]
  },
  {
   "cell_type": "code",
   "execution_count": 267,
   "id": "551ec604-a724-4083-abba-96837bf0d352",
   "metadata": {},
   "outputs": [
    {
     "data": {
      "text/plain": [
       "False"
      ]
     },
     "execution_count": 267,
     "metadata": {},
     "output_type": "execute_result"
    }
   ],
   "source": [
    "{1, 3, 5} < {3, 5, 1}"
   ]
  },
  {
   "cell_type": "code",
   "execution_count": 268,
   "id": "c5b9ba6f-e3e0-4549-8ad1-16cc5496618e",
   "metadata": {},
   "outputs": [
    {
     "data": {
      "text/plain": [
       "True"
      ]
     },
     "execution_count": 268,
     "metadata": {},
     "output_type": "execute_result"
    }
   ],
   "source": [
    "{1, 3, 5} < {7, 3, 5, 1}"
   ]
  },
  {
   "cell_type": "code",
   "execution_count": 269,
   "id": "99eca6f2-d675-4f53-bccb-e7e19880d654",
   "metadata": {},
   "outputs": [
    {
     "data": {
      "text/plain": [
       "True"
      ]
     },
     "execution_count": 269,
     "metadata": {},
     "output_type": "execute_result"
    }
   ],
   "source": [
    "{1, 3, 5} <= {3, 5, 1}"
   ]
  },
  {
   "cell_type": "code",
   "execution_count": 270,
   "id": "86316693-b417-4728-a3a7-a5ec99d9448b",
   "metadata": {},
   "outputs": [
    {
     "data": {
      "text/plain": [
       "True"
      ]
     },
     "execution_count": 270,
     "metadata": {},
     "output_type": "execute_result"
    }
   ],
   "source": [
    "{1, 3} <= {3, 5, 1}"
   ]
  },
  {
   "cell_type": "code",
   "execution_count": 271,
   "id": "546b1e49-8cbc-40d2-8af8-bc53c1e061ad",
   "metadata": {},
   "outputs": [
    {
     "data": {
      "text/plain": [
       "True"
      ]
     },
     "execution_count": 271,
     "metadata": {},
     "output_type": "execute_result"
    }
   ],
   "source": [
    "{1, 3, 5}.issubset({3, 5, 1})"
   ]
  },
  {
   "cell_type": "code",
   "execution_count": 272,
   "id": "53d02440-3a85-4383-8b19-71a188c05a8a",
   "metadata": {},
   "outputs": [
    {
     "data": {
      "text/plain": [
       "False"
      ]
     },
     "execution_count": 272,
     "metadata": {},
     "output_type": "execute_result"
    }
   ],
   "source": [
    "{1, 2}.issubset({3, 5, 1})"
   ]
  },
  {
   "cell_type": "code",
   "execution_count": 273,
   "id": "1eab9ea2-0759-4757-b348-ace7e5f3ac6c",
   "metadata": {},
   "outputs": [
    {
     "data": {
      "text/plain": [
       "False"
      ]
     },
     "execution_count": 273,
     "metadata": {},
     "output_type": "execute_result"
    }
   ],
   "source": [
    "{1, 3, 5} > {3, 5, 1}"
   ]
  },
  {
   "cell_type": "code",
   "execution_count": 274,
   "id": "970f675c-e4f3-41c3-8a96-5f050cf2a1a5",
   "metadata": {},
   "outputs": [
    {
     "data": {
      "text/plain": [
       "True"
      ]
     },
     "execution_count": 274,
     "metadata": {},
     "output_type": "execute_result"
    }
   ],
   "source": [
    "{1, 3, 5, 7} > {3, 5, 1}"
   ]
  },
  {
   "cell_type": "code",
   "execution_count": 275,
   "id": "4eab3664-4ace-4400-9a95-5527893b055c",
   "metadata": {},
   "outputs": [
    {
     "data": {
      "text/plain": [
       "True"
      ]
     },
     "execution_count": 275,
     "metadata": {},
     "output_type": "execute_result"
    }
   ],
   "source": [
    "{1, 3, 5} >= {3, 5, 1}"
   ]
  },
  {
   "cell_type": "code",
   "execution_count": 276,
   "id": "2e7c99ef-3ff1-4c08-95ec-3f2961ff2b0b",
   "metadata": {},
   "outputs": [
    {
     "data": {
      "text/plain": [
       "True"
      ]
     },
     "execution_count": 276,
     "metadata": {},
     "output_type": "execute_result"
    }
   ],
   "source": [
    "{1, 3, 5} >= {3, 1}"
   ]
  },
  {
   "cell_type": "code",
   "execution_count": 277,
   "id": "68d46be4-734d-4ce8-b066-e28d7bfcddec",
   "metadata": {},
   "outputs": [
    {
     "data": {
      "text/plain": [
       "False"
      ]
     },
     "execution_count": 277,
     "metadata": {},
     "output_type": "execute_result"
    }
   ],
   "source": [
    "{1, 3} >= {3, 1, 7}"
   ]
  },
  {
   "cell_type": "code",
   "execution_count": 278,
   "id": "2cf506be-1faf-4bb9-ad2f-daffbfd5c8a6",
   "metadata": {},
   "outputs": [
    {
     "data": {
      "text/plain": [
       "True"
      ]
     },
     "execution_count": 278,
     "metadata": {},
     "output_type": "execute_result"
    }
   ],
   "source": [
    "{1, 3, 5}.issuperset({3, 5, 1})"
   ]
  },
  {
   "cell_type": "code",
   "execution_count": 279,
   "id": "41a04029-280f-480e-9555-d3b519e25431",
   "metadata": {},
   "outputs": [
    {
     "data": {
      "text/plain": [
       "False"
      ]
     },
     "execution_count": 279,
     "metadata": {},
     "output_type": "execute_result"
    }
   ],
   "source": [
    "{1, 3, 5}.issuperset({3, 2})"
   ]
  },
  {
   "cell_type": "markdown",
   "id": "b8e9c536-f4ee-45b7-bc17-7da75edb828b",
   "metadata": {},
   "source": [
    "Self Check 6.3.1.  1.  False  2.  proper  3.  see code below"
   ]
  },
  {
   "cell_type": "code",
   "execution_count": 280,
   "id": "64fa109a-5a70-4d74-8ec7-abf9117084e3",
   "metadata": {},
   "outputs": [
    {
     "data": {
      "text/plain": [
       "True"
      ]
     },
     "execution_count": 280,
     "metadata": {},
     "output_type": "execute_result"
    }
   ],
   "source": [
    "set('abc def ghi jkl mno').issuperset('hi mom')"
   ]
  },
  {
   "cell_type": "code",
   "execution_count": 281,
   "id": "23ab3d46-9e19-4672-9a27-a112656ae1d4",
   "metadata": {},
   "outputs": [
    {
     "data": {
      "text/plain": [
       "{1, 2, 3, 4, 5}"
      ]
     },
     "execution_count": 281,
     "metadata": {},
     "output_type": "execute_result"
    }
   ],
   "source": [
    "{1, 3, 5} | {2, 3, 4}"
   ]
  },
  {
   "cell_type": "code",
   "execution_count": 282,
   "id": "a671c181-df52-4d1c-94bb-8e3946af2147",
   "metadata": {},
   "outputs": [
    {
     "data": {
      "text/plain": [
       "{1, 3, 5, 20, 40}"
      ]
     },
     "execution_count": 282,
     "metadata": {},
     "output_type": "execute_result"
    }
   ],
   "source": [
    "{1, 3, 5}.union([20, 20, 3, 40, 40])"
   ]
  },
  {
   "cell_type": "code",
   "execution_count": 283,
   "id": "a436f404-1022-4595-b744-4daedd2e7d91",
   "metadata": {},
   "outputs": [
    {
     "data": {
      "text/plain": [
       "{3}"
      ]
     },
     "execution_count": 283,
     "metadata": {},
     "output_type": "execute_result"
    }
   ],
   "source": [
    "{1, 3, 5} & {2, 3, 4}"
   ]
  },
  {
   "cell_type": "code",
   "execution_count": 284,
   "id": "c3c796ea-e6b0-492f-b705-593ac26af98a",
   "metadata": {},
   "outputs": [
    {
     "data": {
      "text/plain": [
       "{1, 3}"
      ]
     },
     "execution_count": 284,
     "metadata": {},
     "output_type": "execute_result"
    }
   ],
   "source": [
    "{1, 3, 5}.intersection([1, 2, 2, 3, 3, 4, 4])"
   ]
  },
  {
   "cell_type": "code",
   "execution_count": 285,
   "id": "6cfb4b57-be71-440e-830a-d739721114f1",
   "metadata": {},
   "outputs": [
    {
     "data": {
      "text/plain": [
       "{1, 5}"
      ]
     },
     "execution_count": 285,
     "metadata": {},
     "output_type": "execute_result"
    }
   ],
   "source": [
    "{1, 3, 5} - {2, 3, 4}"
   ]
  },
  {
   "cell_type": "code",
   "execution_count": 286,
   "id": "2a64a8c7-5755-4556-b37a-eb2048730ad1",
   "metadata": {},
   "outputs": [
    {
     "data": {
      "text/plain": [
       "{1, 5, 7}"
      ]
     },
     "execution_count": 286,
     "metadata": {},
     "output_type": "execute_result"
    }
   ],
   "source": [
    "{1, 3, 5, 7}.difference([2, 2, 3, 3, 4, 4])"
   ]
  },
  {
   "cell_type": "code",
   "execution_count": 287,
   "id": "dcfa66f8-21ec-46ac-90c1-cb672bc584c9",
   "metadata": {},
   "outputs": [
    {
     "data": {
      "text/plain": [
       "{1, 2, 4, 5}"
      ]
     },
     "execution_count": 287,
     "metadata": {},
     "output_type": "execute_result"
    }
   ],
   "source": [
    "{1, 3, 5} ^ {2, 3, 4}"
   ]
  },
  {
   "cell_type": "code",
   "execution_count": 288,
   "id": "fac05493-159a-40b1-88a4-4bc0e6236a47",
   "metadata": {},
   "outputs": [
    {
     "data": {
      "text/plain": [
       "{1, 2, 4, 5, 7}"
      ]
     },
     "execution_count": 288,
     "metadata": {},
     "output_type": "execute_result"
    }
   ],
   "source": [
    "{1, 3, 5, 7}.symmetric_difference([2, 2, 3, 3, 4, 4])"
   ]
  },
  {
   "cell_type": "code",
   "execution_count": 289,
   "id": "477ad51a-82c6-461a-9453-c5d31f4ea4e5",
   "metadata": {},
   "outputs": [
    {
     "data": {
      "text/plain": [
       "True"
      ]
     },
     "execution_count": 289,
     "metadata": {},
     "output_type": "execute_result"
    }
   ],
   "source": [
    "{1, 3, 5}.isdisjoint({2, 4, 6})"
   ]
  },
  {
   "cell_type": "code",
   "execution_count": 290,
   "id": "33dead3c-08a4-48a4-9ac1-5889998b20a5",
   "metadata": {},
   "outputs": [
    {
     "data": {
      "text/plain": [
       "False"
      ]
     },
     "execution_count": 290,
     "metadata": {},
     "output_type": "execute_result"
    }
   ],
   "source": [
    "{1, 3, 5}.isdisjoint({4, 6, 1})"
   ]
  },
  {
   "cell_type": "markdown",
   "id": "1b7fea5e-fbb1-41ef-9995-86c608b08a79",
   "metadata": {},
   "source": [
    "Self Check 6.3.2.  1.  disjoint  2.  See code below"
   ]
  },
  {
   "cell_type": "code",
   "execution_count": 291,
   "id": "65265b8c-c33a-4db7-b975-6052b2114bb2",
   "metadata": {},
   "outputs": [
    {
     "data": {
      "text/plain": [
       "{30}"
      ]
     },
     "execution_count": 291,
     "metadata": {},
     "output_type": "execute_result"
    }
   ],
   "source": [
    "{10, 20, 30} - {5, 10, 15, 20}"
   ]
  },
  {
   "cell_type": "code",
   "execution_count": 292,
   "id": "e204e9af-996b-46d5-b5cc-06385cf3b186",
   "metadata": {},
   "outputs": [
    {
     "data": {
      "text/plain": [
       "{5, 15, 30}"
      ]
     },
     "execution_count": 292,
     "metadata": {},
     "output_type": "execute_result"
    }
   ],
   "source": [
    "{10, 20, 30} ^ {5, 10, 15, 20}"
   ]
  },
  {
   "cell_type": "code",
   "execution_count": 293,
   "id": "8c661aea-8971-430f-a60b-ec48159235b2",
   "metadata": {},
   "outputs": [
    {
     "data": {
      "text/plain": [
       "{5, 10, 15, 20, 30}"
      ]
     },
     "execution_count": 293,
     "metadata": {},
     "output_type": "execute_result"
    }
   ],
   "source": [
    "{10, 20, 30} | {5, 10, 15, 20}"
   ]
  },
  {
   "cell_type": "code",
   "execution_count": 294,
   "id": "d39caebe-934f-4d88-80cf-1f634dc00f12",
   "metadata": {},
   "outputs": [
    {
     "data": {
      "text/plain": [
       "{10, 20}"
      ]
     },
     "execution_count": 294,
     "metadata": {},
     "output_type": "execute_result"
    }
   ],
   "source": [
    "{10, 20, 30} & {5, 10, 15, 20}"
   ]
  },
  {
   "cell_type": "code",
   "execution_count": 295,
   "id": "698bac03-6767-4f47-81ed-86047785a4c8",
   "metadata": {},
   "outputs": [],
   "source": [
    "numbers = {1, 3, 5}"
   ]
  },
  {
   "cell_type": "code",
   "execution_count": 296,
   "id": "d84bfb4c-8faf-4365-82af-b067199c7358",
   "metadata": {},
   "outputs": [],
   "source": [
    "numbers |= {2, 3, 4}"
   ]
  },
  {
   "cell_type": "code",
   "execution_count": 297,
   "id": "c058c0ad-c24b-4f90-8afe-64e4e5c575cf",
   "metadata": {},
   "outputs": [
    {
     "data": {
      "text/plain": [
       "{1, 2, 3, 4, 5}"
      ]
     },
     "execution_count": 297,
     "metadata": {},
     "output_type": "execute_result"
    }
   ],
   "source": [
    "numbers"
   ]
  },
  {
   "cell_type": "code",
   "execution_count": 298,
   "id": "a7be4c31-89eb-46e4-9e88-4840b6e30a53",
   "metadata": {},
   "outputs": [],
   "source": [
    "numbers.update(range(10))"
   ]
  },
  {
   "cell_type": "code",
   "execution_count": 299,
   "id": "03b782b3-30b5-45cf-8da1-b2cef56c5f0f",
   "metadata": {},
   "outputs": [
    {
     "data": {
      "text/plain": [
       "{0, 1, 2, 3, 4, 5, 6, 7, 8, 9}"
      ]
     },
     "execution_count": 299,
     "metadata": {},
     "output_type": "execute_result"
    }
   ],
   "source": [
    "numbers"
   ]
  },
  {
   "cell_type": "code",
   "execution_count": 300,
   "id": "8c1b60f4-bfa3-468b-be57-cbdc921ec259",
   "metadata": {},
   "outputs": [],
   "source": [
    "numbers.add(17)"
   ]
  },
  {
   "cell_type": "code",
   "execution_count": 301,
   "id": "47dcb4ff-0093-4ef5-b5cf-15ef3a48f985",
   "metadata": {},
   "outputs": [],
   "source": [
    "numbers.add(3)"
   ]
  },
  {
   "cell_type": "code",
   "execution_count": 302,
   "id": "b5418367-d45e-4feb-8b14-7a88dcdf0a40",
   "metadata": {},
   "outputs": [
    {
     "data": {
      "text/plain": [
       "{0, 1, 2, 3, 4, 5, 6, 7, 8, 9, 17}"
      ]
     },
     "execution_count": 302,
     "metadata": {},
     "output_type": "execute_result"
    }
   ],
   "source": [
    "numbers"
   ]
  },
  {
   "cell_type": "code",
   "execution_count": 303,
   "id": "3680f022-8969-4bc8-a88c-6be8971154cf",
   "metadata": {},
   "outputs": [],
   "source": [
    "numbers.remove(3)"
   ]
  },
  {
   "cell_type": "code",
   "execution_count": 304,
   "id": "96f63328-851d-4daa-ba18-8e5b2e496800",
   "metadata": {},
   "outputs": [
    {
     "data": {
      "text/plain": [
       "{0, 1, 2, 4, 5, 6, 7, 8, 9, 17}"
      ]
     },
     "execution_count": 304,
     "metadata": {},
     "output_type": "execute_result"
    }
   ],
   "source": [
    "numbers"
   ]
  },
  {
   "cell_type": "code",
   "execution_count": 305,
   "id": "7e286f3f-e21c-4114-a98a-b31e8ae0b9f9",
   "metadata": {},
   "outputs": [
    {
     "data": {
      "text/plain": [
       "0"
      ]
     },
     "execution_count": 305,
     "metadata": {},
     "output_type": "execute_result"
    }
   ],
   "source": [
    "numbers.pop()"
   ]
  },
  {
   "cell_type": "code",
   "execution_count": 306,
   "id": "890b00d1-141a-4623-9262-50f635fff969",
   "metadata": {},
   "outputs": [
    {
     "data": {
      "text/plain": [
       "{1, 2, 4, 5, 6, 7, 8, 9, 17}"
      ]
     },
     "execution_count": 306,
     "metadata": {},
     "output_type": "execute_result"
    }
   ],
   "source": [
    "numbers"
   ]
  },
  {
   "cell_type": "code",
   "execution_count": 307,
   "id": "b65c984d-e3a9-4977-a62d-2d56cd7530b9",
   "metadata": {},
   "outputs": [],
   "source": [
    "numbers.clear()"
   ]
  },
  {
   "cell_type": "code",
   "execution_count": 308,
   "id": "4b232e8b-9db6-48fe-ab7d-a95e67863e93",
   "metadata": {},
   "outputs": [
    {
     "data": {
      "text/plain": [
       "set()"
      ]
     },
     "execution_count": 308,
     "metadata": {},
     "output_type": "execute_result"
    }
   ],
   "source": [
    "numbers"
   ]
  },
  {
   "cell_type": "markdown",
   "id": "8e6e3f50-9d5d-47c9-811f-861bc03e9086",
   "metadata": {},
   "source": [
    "Self Check 6.3.3  1.  False.  2.  update"
   ]
  },
  {
   "cell_type": "code",
   "execution_count": 309,
   "id": "82115409-8362-4ac9-960a-6f4f8b30bc35",
   "metadata": {},
   "outputs": [],
   "source": [
    "numbers = [1, 2, 2, 3, 4, 5, 6, 6, 7, 8, 9, 10, 10]"
   ]
  },
  {
   "cell_type": "code",
   "execution_count": 310,
   "id": "b0ce44a3-0b6e-4383-8dbc-a6bbded42a6d",
   "metadata": {},
   "outputs": [],
   "source": [
    "evens = {item for item in numbers if item % 2 == 0}"
   ]
  },
  {
   "cell_type": "code",
   "execution_count": 311,
   "id": "3cf926c5-6461-4a89-84bc-f7b184b4d555",
   "metadata": {},
   "outputs": [
    {
     "data": {
      "text/plain": [
       "{2, 4, 6, 8, 10}"
      ]
     },
     "execution_count": 311,
     "metadata": {},
     "output_type": "execute_result"
    }
   ],
   "source": [
    "evens"
   ]
  },
  {
   "cell_type": "code",
   "execution_count": null,
   "id": "bed9fd08-8618-49c6-8173-0a4f1aed80fd",
   "metadata": {},
   "outputs": [],
   "source": []
  }
 ],
 "metadata": {
  "kernelspec": {
   "display_name": "Python 3 (ipykernel)",
   "language": "python",
   "name": "python3"
  },
  "language_info": {
   "codemirror_mode": {
    "name": "ipython",
    "version": 3
   },
   "file_extension": ".py",
   "mimetype": "text/x-python",
   "name": "python",
   "nbconvert_exporter": "python",
   "pygments_lexer": "ipython3",
   "version": "3.9.7"
  }
 },
 "nbformat": 4,
 "nbformat_minor": 5
}
